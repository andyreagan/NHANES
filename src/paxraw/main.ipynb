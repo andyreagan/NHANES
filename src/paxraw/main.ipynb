{
 "cells": [
  {
   "cell_type": "markdown",
   "id": "b2ed32b2",
   "metadata": {},
   "source": [
    "# Imports"
   ]
  },
  {
   "cell_type": "code",
   "execution_count": null,
   "id": "787d2cd7",
   "metadata": {},
   "outputs": [],
   "source": [
    "import subprocess"
   ]
  },
  {
   "cell_type": "code",
   "execution_count": null,
   "id": "4bb62e62",
   "metadata": {},
   "outputs": [],
   "source": [
    "import altair as alt\n",
    "import numpy as np\n",
    "import pandas as pd\n",
    "import statsmodels.formula.api as smf\n",
    "from tqdm import tqdm"
   ]
  },
  {
   "cell_type": "code",
   "execution_count": null,
   "id": "7f5bed9e",
   "metadata": {},
   "outputs": [],
   "source": [
    "from utils import CHAR_LOOKUP, flatten_columns, get_datadir"
   ]
  },
  {
   "cell_type": "code",
   "execution_count": null,
   "id": "85ce6148",
   "metadata": {
    "lines_to_next_cell": 2
   },
   "outputs": [],
   "source": [
    "# allow pandas to show more data\n",
    "pd.set_option(\"display.max_columns\", None)\n",
    "pd.set_option(\"display.max_rows\", 1000)\n",
    "alt.data_transformers.enable(\"vegafusion\")\n",
    "# Create new `pandas` methods which use `tqdm` progress\n",
    "# (can use tqdm_gui, optional kwargs, etc.)\n",
    "tqdm.pandas()"
   ]
  },
  {
   "cell_type": "markdown",
   "id": "ac811aa6",
   "metadata": {},
   "source": [
    "# Select year and load file"
   ]
  },
  {
   "cell_type": "code",
   "execution_count": null,
   "id": "f45d8970",
   "metadata": {
    "tags": [
     "parameters"
    ]
   },
   "outputs": [],
   "source": [
    "year: str = \"2003-2004\""
   ]
  },
  {
   "cell_type": "code",
   "execution_count": null,
   "id": "186f18c8",
   "metadata": {},
   "outputs": [],
   "source": [
    "datadir = get_datadir(year)\n",
    "datadir"
   ]
  },
  {
   "cell_type": "code",
   "execution_count": null,
   "id": "29464827",
   "metadata": {},
   "outputs": [],
   "source": [
    "xptfile = datadir / f\"paxraw_{CHAR_LOOKUP[year].lower()}.xpt\"\n",
    "zipfilename = f\"PAXRAW_{CHAR_LOOKUP[year].upper()}.ZIP\"\n",
    "zipfile = datadir / zipfilename\n",
    "if not xptfile.exists():\n",
    "    print(\"no extracted xpt file, looking for the zip\")\n",
    "    if not zipfile.exists():\n",
    "        print(\"no zip exists, downloading it\")\n",
    "        subprocess.run(\n",
    "            [\n",
    "                \"wget\",\n",
    "                \"-O\",\n",
    "                zipfile,\n",
    "                f\"https://wwwn.cdc.gov/Nchs/Nhanes/{year}/{zipfilename}\",\n",
    "                \"--no-use-server-timestamps\",\n",
    "            ]\n",
    "        )\n",
    "    print(\"extracting\")\n",
    "    subprocess.run([\"unzip\", \"-o\", zipfile, \"-d\", datadir])\n",
    "else:\n",
    "    print(\"xpt file exists, carry on\")"
   ]
  },
  {
   "cell_type": "code",
   "execution_count": null,
   "id": "ea127877",
   "metadata": {},
   "outputs": [],
   "source": [
    "paxraw = pd.read_sas(xptfile)"
   ]
  },
  {
   "cell_type": "code",
   "execution_count": null,
   "id": "135e659f",
   "metadata": {},
   "outputs": [],
   "source": [
    "paxraw.shape"
   ]
  },
  {
   "cell_type": "code",
   "execution_count": null,
   "id": "99bf8de6",
   "metadata": {},
   "outputs": [],
   "source": [
    "paxraw.head()"
   ]
  },
  {
   "cell_type": "markdown",
   "id": "7885db23",
   "metadata": {},
   "source": [
    "## Fix datatypes"
   ]
  },
  {
   "cell_type": "code",
   "execution_count": null,
   "id": "d0f454d4",
   "metadata": {},
   "outputs": [],
   "source": [
    "paxraw.dtypes"
   ]
  },
  {
   "cell_type": "code",
   "execution_count": null,
   "id": "039d18b9",
   "metadata": {},
   "outputs": [],
   "source": [
    "for col in paxraw.columns:\n",
    "    print(f\"casting {col=} to int\")\n",
    "    try:\n",
    "        paxraw.loc[:, col] = paxraw.loc[:, col].astype(int)\n",
    "    except pd.errors.IntCastingNaNError:\n",
    "        print(f\"{col=} has {paxraw.loc[:, col].isna().sum()} NA values, setting to 0\")\n",
    "        paxraw.loc[:, col] = paxraw.loc[:, col].replace(np.nan, 0).astype(int)"
   ]
  },
  {
   "cell_type": "markdown",
   "id": "355034ed",
   "metadata": {},
   "source": [
    "### Don't add a datetime column, takes too long\n",
    "\n",
    "```\n",
    "paxraw[\"datetime\"] = paxraw.progress_apply(\n",
    "    lambda x: datetime.datetime(2006, 1, 1) + datetime.timedelta(\n",
    "        days=int(x.PAXDAY - 1),\n",
    "        hours=int(x.PAXHOUR),\n",
    "        minutes=int(x.PAXMINUT)\n",
    "    ),\n",
    "    axis=1,\n",
    ")\n",
    "```"
   ]
  },
  {
   "cell_type": "code",
   "execution_count": null,
   "id": "1e107576",
   "metadata": {},
   "outputs": [],
   "source": [
    "paxraw.dtypes"
   ]
  },
  {
   "cell_type": "code",
   "execution_count": null,
   "id": "5e9bf586",
   "metadata": {},
   "outputs": [],
   "source": [
    "paxraw.head()"
   ]
  },
  {
   "cell_type": "markdown",
   "id": "acb7c971",
   "metadata": {},
   "source": [
    "## Save parquet"
   ]
  },
  {
   "cell_type": "code",
   "execution_count": null,
   "id": "3ce2bc73",
   "metadata": {},
   "outputs": [],
   "source": [
    "parquetfile = datadir / f\"paxraw_{CHAR_LOOKUP[year].lower()}.parquet\"\n",
    "parquetfile"
   ]
  },
  {
   "cell_type": "code",
   "execution_count": null,
   "id": "47fea3a6",
   "metadata": {},
   "outputs": [],
   "source": [
    "paxraw.to_parquet(parquetfile)\n",
    "# paxraw = pd.read_parquet(parquetfile)"
   ]
  },
  {
   "cell_type": "markdown",
   "id": "f94f2ae3",
   "metadata": {},
   "source": [
    "# Define intensity level cuts and METs"
   ]
  },
  {
   "cell_type": "code",
   "execution_count": null,
   "id": "8f6f6684",
   "metadata": {},
   "outputs": [],
   "source": [
    "# cuts defined in literature and in [common software](https://github.com/vandomed/nhanesaccel/blob/7ebd7a0cd6e2f169e6f81a66c8c99b1746eacb51/R/process_nhanes.R#L267)\n",
    "int_cuts = [100, 760, 2020, 5999]"
   ]
  },
  {
   "cell_type": "code",
   "execution_count": null,
   "id": "46cb737e",
   "metadata": {},
   "outputs": [],
   "source": [
    "# add end ranges for interpolation\n",
    "int_cuts_endranges = [paxraw.PAXINTEN.min()] + int_cuts + [paxraw.PAXINTEN.max() + 1]\n",
    "int_cuts_endranges"
   ]
  },
  {
   "cell_type": "code",
   "execution_count": null,
   "id": "330015df",
   "metadata": {},
   "outputs": [],
   "source": [
    "len(int_cuts_endranges) - 1"
   ]
  },
  {
   "cell_type": "code",
   "execution_count": null,
   "id": "f5007a15",
   "metadata": {},
   "outputs": [],
   "source": [
    "# MET values corresponding to each cut point\n",
    "METs = [1, 1, 2, 3.5, 6, 10]\n",
    "labels = [\"Sedentary\", \"Low\", \"Light\", \"Moderate\", \"Vigorous\"]"
   ]
  },
  {
   "cell_type": "code",
   "execution_count": null,
   "id": "3297b40a",
   "metadata": {},
   "outputs": [],
   "source": [
    "# linearly interpolate MET values\n",
    "METs_full = np.interp(\n",
    "    np.arange(int_cuts_endranges[0], int_cuts_endranges[-1]), int_cuts_endranges, METs\n",
    ")\n",
    "METs_lookup = pd.DataFrame(\n",
    "    {\n",
    "        \"MET\": METs_full,\n",
    "        \"PAXINTEN\": np.arange(int_cuts_endranges[0], int_cuts_endranges[-1]),\n",
    "    }\n",
    ")"
   ]
  },
  {
   "cell_type": "markdown",
   "id": "19a2cfd4",
   "metadata": {},
   "source": [
    "## Join METs"
   ]
  },
  {
   "cell_type": "code",
   "execution_count": null,
   "id": "4a2520c4",
   "metadata": {},
   "outputs": [],
   "source": [
    "paxraw = paxraw.merge(METs_lookup, how=\"left\", on=\"PAXINTEN\")"
   ]
  },
  {
   "cell_type": "markdown",
   "id": "b0a8be74",
   "metadata": {},
   "source": [
    "## Save parquet"
   ]
  },
  {
   "cell_type": "code",
   "execution_count": null,
   "id": "efd78c62",
   "metadata": {},
   "outputs": [],
   "source": [
    "parquetfile = datadir / f\"paxraw_{CHAR_LOOKUP[year].lower()}_met.parquet\"\n",
    "parquetfile"
   ]
  },
  {
   "cell_type": "code",
   "execution_count": null,
   "id": "d79f2f7f",
   "metadata": {},
   "outputs": [],
   "source": [
    "paxraw.to_parquet(parquetfile)"
   ]
  },
  {
   "cell_type": "markdown",
   "id": "86bc752c",
   "metadata": {},
   "source": [
    "# `worn` classification\n",
    "\n",
    "[R code here](https://github.com/vandomed/nhanesaccel/blob/7ebd7a0cd6e2f169e6f81a66c8c99b1746eacb51/misc/process_nhanes_app_10_2_18.R)\n",
    "\n",
    "## Run a sample of data through"
   ]
  },
  {
   "cell_type": "code",
   "execution_count": null,
   "id": "1539f25b",
   "metadata": {},
   "outputs": [],
   "source": [
    "paxraw_sample = paxraw.loc[paxraw.SEQN == paxraw.SEQN.values[0], :].copy()\n",
    "paxraw_sample.shape"
   ]
  },
  {
   "cell_type": "code",
   "execution_count": null,
   "id": "4dd1f1b5",
   "metadata": {},
   "outputs": [],
   "source": [
    "min_worn_hours_threshold: int = 10\n",
    "max_nonzero_count_per_unworn_hour: int = 2\n",
    "max_of_nonzero_in_unworn_hour: int = 100\n",
    "MINUTES_PER_HOUR = 60"
   ]
  },
  {
   "cell_type": "code",
   "execution_count": null,
   "id": "259dfa1e",
   "metadata": {},
   "outputs": [],
   "source": [
    "paxraw_sample.columns"
   ]
  },
  {
   "cell_type": "code",
   "execution_count": null,
   "id": "f6056e67",
   "metadata": {},
   "outputs": [],
   "source": [
    "# set the indicator to True to start\n",
    "worn = np.ones(paxraw_sample.shape[0])"
   ]
  },
  {
   "cell_type": "code",
   "execution_count": null,
   "id": "814040ec",
   "metadata": {},
   "outputs": [],
   "source": [
    "worn.shape"
   ]
  },
  {
   "cell_type": "markdown",
   "id": "46a92a2c",
   "metadata": {},
   "source": [
    "paxraw = paxraw_sample"
   ]
  },
  {
   "cell_type": "code",
   "execution_count": null,
   "id": "0a876234",
   "metadata": {},
   "outputs": [],
   "source": [
    "paxinten = paxraw_sample.PAXINTEN.values"
   ]
  },
  {
   "cell_type": "code",
   "execution_count": null,
   "id": "35d3fc65",
   "metadata": {},
   "outputs": [],
   "source": [
    "paxinten.shape[0]"
   ]
  },
  {
   "cell_type": "markdown",
   "id": "4f72e9a4",
   "metadata": {},
   "source": [
    "## Time a simple algorithm using numpy arrays"
   ]
  },
  {
   "cell_type": "code",
   "execution_count": null,
   "id": "10040394",
   "metadata": {},
   "outputs": [],
   "source": [
    "# take the first hour\n",
    "# assert d.iloc[:MINUTES_PER_HOUR, :].shape[0] == MINUTES_PER_HOUR\n",
    "if ((paxinten[:MINUTES_PER_HOUR] > 0).sum() <= max_nonzero_count_per_unworn_hour) and (\n",
    "    (paxinten[:MINUTES_PER_HOUR] < max_of_nonzero_in_unworn_hour).sum() == MINUTES_PER_HOUR\n",
    "):\n",
    "    worn[:MINUTES_PER_HOUR] = 0"
   ]
  },
  {
   "cell_type": "code",
   "execution_count": null,
   "id": "dc87858a",
   "metadata": {},
   "outputs": [],
   "source": [
    "for i in range(MINUTES_PER_HOUR + 1, worn.shape[0]):\n",
    "    # assert paxraw_sample.iloc[(i-60):i, :].shape[0] == MINUTES_PER_HOUR\n",
    "    if ((paxinten[(i - MINUTES_PER_HOUR) : i] > 0).sum() <= max_nonzero_count_per_unworn_hour) and (\n",
    "        (paxinten[(i - MINUTES_PER_HOUR) : i] < max_of_nonzero_in_unworn_hour).sum()\n",
    "        == MINUTES_PER_HOUR\n",
    "    ):\n",
    "        worn[(i - MINUTES_PER_HOUR) : i] = 0"
   ]
  },
  {
   "cell_type": "markdown",
   "id": "00d370cb",
   "metadata": {},
   "source": [
    "### Write that as a function (in `util.py`)"
   ]
  },
  {
   "cell_type": "code",
   "execution_count": null,
   "id": "6a283178",
   "metadata": {},
   "outputs": [],
   "source": [
    "from utils import worn_indicator, worn_indicator_fast  # noqa: E402"
   ]
  },
  {
   "cell_type": "code",
   "execution_count": null,
   "id": "d90b85bf",
   "metadata": {},
   "outputs": [],
   "source": [
    "%%timeit\n",
    "worn_indicator(paxraw_sample.PAXINTEN.values)"
   ]
  },
  {
   "cell_type": "markdown",
   "id": "f1197333",
   "metadata": {},
   "source": [
    "Run it once to compile it"
   ]
  },
  {
   "cell_type": "code",
   "execution_count": null,
   "id": "1e3ec844",
   "metadata": {},
   "outputs": [],
   "source": [
    "worn_indicator_fast(paxraw_sample.PAXINTEN.values)"
   ]
  },
  {
   "cell_type": "code",
   "execution_count": null,
   "id": "9b7ae999",
   "metadata": {},
   "outputs": [],
   "source": [
    "%%timeit\n",
    "worn_indicator_fast(paxraw_sample.PAXINTEN.values)"
   ]
  },
  {
   "cell_type": "markdown",
   "id": "0894238c",
   "metadata": {},
   "source": [
    "## Test an algorithm using pandas\n",
    "\n",
    "### Process out active minutes akin to Fishman (2016)\n",
    "\n",
    "1. Compute worn/nonworn indicator on each minute, defined as intervals at least 60 minutes of count = 0, with up to two count < 100.\n",
    "2. Sum worn time per day.\n",
    "3. Discard days with wear time < 10h.\n",
    "4. Sum up total count per day.\n",
    "4. Measure average total count per day on valid days, per individual."
   ]
  },
  {
   "cell_type": "code",
   "execution_count": null,
   "id": "e1f660d6",
   "metadata": {},
   "outputs": [],
   "source": [
    "paxraw_sample.head()"
   ]
  },
  {
   "cell_type": "code",
   "execution_count": null,
   "id": "40b64b2f",
   "metadata": {},
   "outputs": [],
   "source": [
    "paxraw_sample.head()"
   ]
  },
  {
   "cell_type": "code",
   "execution_count": null,
   "id": "4f0626b5",
   "metadata": {},
   "outputs": [],
   "source": [
    "# set the indicator to True to start\n",
    "paxraw_sample.loc[:, \"worn\"] = True"
   ]
  },
  {
   "cell_type": "code",
   "execution_count": null,
   "id": "496dd193",
   "metadata": {},
   "outputs": [],
   "source": [
    "paxraw_sample.columns"
   ]
  },
  {
   "cell_type": "code",
   "execution_count": null,
   "id": "10382b54",
   "metadata": {},
   "outputs": [],
   "source": [
    "PAXINTEN_col = np.arange(paxraw_sample.shape[1])[paxraw_sample.columns == \"PAXINTEN\"][0]"
   ]
  },
  {
   "cell_type": "code",
   "execution_count": null,
   "id": "50f0349b",
   "metadata": {},
   "outputs": [],
   "source": [
    "worn_col = np.arange(paxraw_sample.shape[1])[paxraw_sample.columns == \"worn\"][0]"
   ]
  },
  {
   "cell_type": "code",
   "execution_count": null,
   "id": "214092d7",
   "metadata": {},
   "outputs": [],
   "source": [
    "# take the first 60 minutes\n",
    "assert paxraw_sample.iloc[:60, :].shape[0] == 60\n",
    "if (paxraw_sample.iloc[:60, PAXINTEN_col] >= 100).sum() <= 2:\n",
    "    paxraw_sample.iloc[:60, worn_col] = False"
   ]
  },
  {
   "cell_type": "code",
   "execution_count": null,
   "id": "00689d3d",
   "metadata": {},
   "outputs": [],
   "source": [
    "paxraw_sample.iloc[paxraw_sample.shape[0] - 60 : paxraw_sample.shape[0], :].shape"
   ]
  },
  {
   "cell_type": "code",
   "execution_count": null,
   "id": "b7495532",
   "metadata": {
    "lines_to_next_cell": 2
   },
   "outputs": [],
   "source": [
    "for i in range(61, paxraw_sample.shape[0]):\n",
    "    assert paxraw_sample.iloc[(i - 60) : i, :].shape[0] == 60\n",
    "    if (paxraw_sample.iloc[(i - 60) : i, PAXINTEN_col] >= 100).sum() <= 2:\n",
    "        paxraw_sample.iloc[(i - 60) : i, worn_col] = False"
   ]
  },
  {
   "cell_type": "code",
   "execution_count": null,
   "id": "0aa8e213",
   "metadata": {},
   "outputs": [],
   "source": [
    "worn_chart = (\n",
    "    alt.Chart(paxraw_sample)\n",
    "    .mark_bar(width=1)\n",
    "    .encode(x=\"PAXN:O\", y=alt.value(-10), y2=alt.value(2), color=\"worn\")\n",
    ")\n",
    "inten_chart = alt.Chart(paxraw_sample).mark_line(color=\"orange\").encode(x=\"PAXN:O\", y=\"PAXINTEN\")\n",
    "if \"PAXSTEP\" in paxraw_sample.columns:\n",
    "    step_chart = alt.Chart(paxraw_sample).mark_line().encode(x=\"PAXN:O\", y=\"PAXSTEP\")\n",
    "    chart = worn_chart + inten_chart + step_chart\n",
    "else:\n",
    "    chart = worn_chart + inten_chart\n",
    "chart.properties(width=1400, height=600)"
   ]
  },
  {
   "cell_type": "code",
   "execution_count": null,
   "id": "58ac9d2c",
   "metadata": {},
   "outputs": [],
   "source": [
    "# set the indicator to True to start\n",
    "paxraw_sample.loc[:, \"worn\"] = True\n",
    "# take the first 60 minutes\n",
    "assert paxraw_sample.iloc[:60, :].shape[0] == 60\n",
    "# only 2 allowed > 0, and all 60 are less than 100\n",
    "if ((paxraw_sample.iloc[:60, PAXINTEN_col] > 0).sum() <= 2) and (\n",
    "    (paxraw_sample.iloc[:60, PAXINTEN_col] < 100).sum() == 60\n",
    "):\n",
    "    paxraw_sample.iloc[:60, worn_col] = False"
   ]
  },
  {
   "cell_type": "code",
   "execution_count": null,
   "id": "659b1987",
   "metadata": {},
   "outputs": [],
   "source": [
    "for i in range(61, paxraw_sample.shape[0]):\n",
    "    assert paxraw_sample.iloc[(i - 60) : i, :].shape[0] == 60\n",
    "    if ((paxraw_sample.iloc[(i - 60) : i, PAXINTEN_col] > 0).sum() <= 2) and (\n",
    "        (paxraw_sample.iloc[(i - 60) : i, PAXINTEN_col] < 100).sum() == 60\n",
    "    ):\n",
    "        paxraw_sample.iloc[(i - 60) : i, worn_col] = False"
   ]
  },
  {
   "cell_type": "code",
   "execution_count": null,
   "id": "10653e4e",
   "metadata": {},
   "outputs": [],
   "source": [
    "(\n",
    "    alt.Chart(paxraw_sample)\n",
    "    .mark_bar(width=5, opacity=0.3)\n",
    "    .encode(\n",
    "        x=\"PAXN:O\",\n",
    "        y=alt.value(600),\n",
    "        y2=alt.value(2),\n",
    "        color=alt.Color(\"worn\", scale=alt.Scale(range=[\"white\", \"grey\"])),\n",
    "    )\n",
    "    + alt.Chart(paxraw_sample)\n",
    "    .mark_line(color=\"orange\", clip=True)\n",
    "    .encode(x=\"PAXN:O\", y=alt.Y(\"PAXINTEN\", scale=alt.Scale(domain=[0, 5000])))\n",
    ").properties(width=1400, height=600)"
   ]
  },
  {
   "cell_type": "code",
   "execution_count": null,
   "id": "e1632611",
   "metadata": {},
   "outputs": [],
   "source": [
    "# set the indicator to False to start\n",
    "paxraw_sample.loc[:, \"worn\"] = False\n",
    "# take the first 60 minutes\n",
    "assert paxraw_sample.iloc[:60, :].shape[0] == 60\n",
    "# only 2 allowed > 0, and all 60 are less than 100\n",
    "if ((paxraw_sample.iloc[:60, PAXINTEN_col] > 0).sum() > 2) or (\n",
    "    (paxraw_sample.iloc[:60, PAXINTEN_col] >= 100).sum() > 0\n",
    "):\n",
    "    paxraw_sample.iloc[:60, worn_col] = True"
   ]
  },
  {
   "cell_type": "code",
   "execution_count": null,
   "id": "2e415c2e",
   "metadata": {},
   "outputs": [],
   "source": [
    "for i in range(61, paxraw_sample.shape[0]):\n",
    "    assert paxraw_sample.iloc[(i - 60) : i, :].shape[0] == 60\n",
    "    if ((paxraw_sample.iloc[(i - 60) : i, PAXINTEN_col] > 0).sum() > 2) or (\n",
    "        (paxraw_sample.iloc[(i - 60) : i, PAXINTEN_col] >= 100).sum() > 0\n",
    "    ):\n",
    "        paxraw_sample.iloc[(i - worn_col) : i, worn_col] = True"
   ]
  },
  {
   "cell_type": "code",
   "execution_count": null,
   "id": "5992988b",
   "metadata": {},
   "outputs": [],
   "source": [
    "(\n",
    "    alt.Chart(paxraw_sample)\n",
    "    .mark_bar(width=5, opacity=0.3)\n",
    "    .encode(\n",
    "        x=\"PAXN:O\",\n",
    "        y=alt.value(600),\n",
    "        y2=alt.value(2),\n",
    "        color=alt.Color(\"worn\", scale=alt.Scale(range=[\"white\", \"grey\"])),\n",
    "    )\n",
    "    + alt.Chart(paxraw_sample)\n",
    "    .mark_line(color=\"orange\", clip=True)\n",
    "    .encode(x=\"PAXN:O\", y=alt.Y(\"PAXINTEN\", scale=alt.Scale(domain=[0, 5000])))\n",
    ").properties(width=1400, height=600)"
   ]
  },
  {
   "cell_type": "code",
   "execution_count": null,
   "id": "8c8238a5",
   "metadata": {},
   "outputs": [],
   "source": [
    "worn_minutes = paxraw_sample.groupby(\"PAXDAY\").agg({\"worn\": [sum], \"PAXINTEN\": [sum]})\n",
    "worn_minutes[\"valid_day\"] = worn_minutes[\"worn\"][\"sum\"] > min_worn_hours_threshold * 60\n",
    "# filter to valid days\n",
    "worn_minutes = worn_minutes.loc[worn_minutes.valid_day, :]\n",
    "np.mean(worn_minutes[\"PAXINTEN\"][\"sum\"])"
   ]
  },
  {
   "cell_type": "code",
   "execution_count": null,
   "id": "4190569f",
   "metadata": {},
   "outputs": [],
   "source": [
    "from utils import get_person_active_count  # noqa: E402"
   ]
  },
  {
   "cell_type": "code",
   "execution_count": null,
   "id": "4b93422f",
   "metadata": {},
   "outputs": [],
   "source": [
    "get_person_active_count(paxraw.loc[paxraw.SEQN == paxraw.SEQN.unique()[0], :])"
   ]
  },
  {
   "cell_type": "code",
   "execution_count": null,
   "id": "431faa4e",
   "metadata": {},
   "outputs": [],
   "source": [
    "%%timeit\n",
    "get_person_active_count(paxraw.loc[paxraw.SEQN == paxraw.SEQN.unique()[0], :])"
   ]
  },
  {
   "cell_type": "markdown",
   "id": "ae27a503",
   "metadata": {},
   "source": [
    "Hours:"
   ]
  },
  {
   "cell_type": "code",
   "execution_count": null,
   "id": "990dd2f1",
   "metadata": {},
   "outputs": [],
   "source": [
    "3.13 * (paxraw[\"SEQN\"].unique().shape[0]) / 60 / 60"
   ]
  },
  {
   "cell_type": "markdown",
   "id": "4b71b26f",
   "metadata": {},
   "source": [
    "### Test it on a slightly bigger sample\n",
    "\n",
    "Make sure the groupby object returned makes sense before waiting 8 hours"
   ]
  },
  {
   "cell_type": "code",
   "execution_count": null,
   "id": "9ed2a8f6",
   "metadata": {},
   "outputs": [],
   "source": [
    "person_active_counts = (\n",
    "    paxraw.loc[paxraw.SEQN.isin(paxraw.SEQN.unique()[:10]), :]\n",
    "    .groupby(\"SEQN\")\n",
    "    .progress_apply(get_person_active_count)\n",
    ")"
   ]
  },
  {
   "cell_type": "code",
   "execution_count": null,
   "id": "fd69b42d",
   "metadata": {},
   "outputs": [],
   "source": [
    "person_active_counts"
   ]
  },
  {
   "cell_type": "code",
   "execution_count": null,
   "id": "4a3fe5b5",
   "metadata": {},
   "outputs": [],
   "source": [
    "# check that we can save and load it\n",
    "# with the heirarchical indexes\n",
    "parquetfile = datadir / f\"paxraw_{CHAR_LOOKUP[year].lower()}_sample_test_write.parquet\"\n",
    "person_active_counts.to_parquet(parquetfile)\n",
    "pd.read_parquet(parquetfile).head()"
   ]
  },
  {
   "cell_type": "markdown",
   "id": "e9c3341c",
   "metadata": {},
   "source": [
    "### Don't apply the numpy-based function to Pandas column, too slow\n",
    "\n",
    "Because it takes almost 30 minutes."
   ]
  },
  {
   "cell_type": "markdown",
   "id": "f6d9f888",
   "metadata": {},
   "source": [
    "this would take ~25 minutes\n",
    "```\n",
    "paxraw['worn'] = 1\n",
    "\n",
    "for SEQN in tqdm(pd.unique(paxraw.SEQN.values)):\n",
    "    paxraw.loc[paxraw.SEQN == SEQN, 'worn'] = worn_indicator(paxraw.loc[paxraw.SEQN == SEQN, 'PAXINTEN'].values)\n",
    "```"
   ]
  },
  {
   "cell_type": "markdown",
   "id": "56851d14",
   "metadata": {},
   "source": [
    "```\n",
    "parquetfile = datadir / f\"paxraw_{CHAR_LOOKUP[year].lower()}_met_worn.parquet\"\n",
    "paxraw.to_parquet(parquetfile)\n",
    "```"
   ]
  },
  {
   "cell_type": "markdown",
   "id": "a372871c",
   "metadata": {},
   "source": [
    "### Skip a fully pandas-based solution entirely, it's very very slow\n",
    "\n",
    "FWIW, the `rolling` version should take better advantage of Pandas,\n",
    "but it's still too slow."
   ]
  },
  {
   "cell_type": "markdown",
   "id": "8a2d7162",
   "metadata": {},
   "source": [
    "```\n",
    "person_active_counts = (\n",
    "    paxraw.groupby(\"SEQN\").progress_apply(get_person_active_count).reset_index()\n",
    ")\n",
    "```"
   ]
  },
  {
   "cell_type": "markdown",
   "id": "9e5c24dc",
   "metadata": {},
   "source": [
    "## Apply ~numpy-based~ numba algorithm to full dataset\n",
    "\n",
    "~Less than 10 min.~\n",
    "\n",
    "A few seconds."
   ]
  },
  {
   "cell_type": "code",
   "execution_count": null,
   "id": "e2c646ce",
   "metadata": {},
   "outputs": [],
   "source": [
    "from utils import bout_classifier_SEQN_long, worn_indicator_SEQN_long_fast  # noqa: E402"
   ]
  },
  {
   "cell_type": "code",
   "execution_count": null,
   "id": "18ad88d2",
   "metadata": {},
   "outputs": [],
   "source": [
    "# this should be fast\n",
    "paxraw[\"worn\"] = worn_indicator_SEQN_long_fast(paxraw.PAXINTEN.values, paxraw.SEQN.values)"
   ]
  },
  {
   "cell_type": "markdown",
   "id": "ea9f6168",
   "metadata": {},
   "source": [
    "### Compare the full numpy and the numpy function applied to pandas array\n",
    "\n",
    "It's commented out because we're not running the \"numpy function applied to pandas array\" version now.\n",
    "They are the same"
   ]
  },
  {
   "cell_type": "markdown",
   "id": "028817f7",
   "metadata": {},
   "source": [
    "```\n",
    "(paxraw['worn'] == worn).sum()\n",
    "```"
   ]
  },
  {
   "cell_type": "markdown",
   "id": "daf47b1b",
   "metadata": {},
   "source": [
    "```\n",
    "(paxraw['worn'] != worn).sum()\n",
    "```"
   ]
  },
  {
   "cell_type": "markdown",
   "id": "f19e910a",
   "metadata": {},
   "source": [
    "```\n",
    "(paxraw['worn'] == worn).sum() == worn.shape[0]\n",
    "```"
   ]
  },
  {
   "cell_type": "markdown",
   "id": "e65e5b76",
   "metadata": {},
   "source": [
    "```\n",
    "paxraw.loc[(paxraw.worn != worn), :].head()\n",
    "```"
   ]
  },
  {
   "cell_type": "markdown",
   "id": "a80e9a0f",
   "metadata": {},
   "source": [
    "## Save parquet"
   ]
  },
  {
   "cell_type": "code",
   "execution_count": null,
   "id": "65289e49",
   "metadata": {},
   "outputs": [],
   "source": [
    "parquetfile = datadir / f\"paxraw_{CHAR_LOOKUP[year].lower()}_met_worn.parquet\"\n",
    "parquetfile"
   ]
  },
  {
   "cell_type": "code",
   "execution_count": null,
   "id": "4901e7d3",
   "metadata": {},
   "outputs": [],
   "source": [
    "paxraw.to_parquet(parquetfile)"
   ]
  },
  {
   "cell_type": "markdown",
   "id": "221d8ccd",
   "metadata": {},
   "source": [
    "# Generate indicators for `bouts` of activity levels"
   ]
  },
  {
   "cell_type": "code",
   "execution_count": null,
   "id": "47396a7b",
   "metadata": {},
   "outputs": [],
   "source": [
    "paxraw[\"vigorous_bout\"] = bout_classifier_SEQN_long(\n",
    "    paxraw.PAXINTEN.values,\n",
    "    paxraw.SEQN.values,\n",
    "    paxraw.worn.values,\n",
    "    np.zeros(paxraw.PAXINTEN.values.shape[0]),\n",
    "    upper=int_cuts_endranges[5],\n",
    "    lower=int_cuts_endranges[4],\n",
    "    tol_upper_soft=0,\n",
    "    tol_lower_soft=0,\n",
    "    m=10,\n",
    "    lower_soft=(int_cuts_endranges[3] + int_cuts_endranges[4]) / 2,\n",
    "    check_already_classified=False,\n",
    ")"
   ]
  },
  {
   "cell_type": "code",
   "execution_count": null,
   "id": "7ae96087",
   "metadata": {},
   "outputs": [],
   "source": [
    "paxraw[\"moderate_bout\"] = bout_classifier_SEQN_long(\n",
    "    paxraw.PAXINTEN.values,\n",
    "    paxraw.SEQN.values,\n",
    "    paxraw.worn.values,\n",
    "    paxraw.vigorous_bout.values,\n",
    "    upper=int_cuts_endranges[4],\n",
    "    lower=int_cuts_endranges[3],\n",
    "    tol_upper_soft=10,\n",
    "    tol_lower_soft=0,\n",
    "    m=10,\n",
    "    lower_soft=(int_cuts_endranges[2] + int_cuts_endranges[3]) / 2,\n",
    "    upper_soft=int_cuts_endranges[5],\n",
    "    check_already_classified=True,\n",
    ")"
   ]
  },
  {
   "cell_type": "code",
   "execution_count": null,
   "id": "58339f98",
   "metadata": {},
   "outputs": [],
   "source": [
    "paxraw[\"light_bout\"] = bout_classifier_SEQN_long(\n",
    "    paxraw.PAXINTEN.values,\n",
    "    paxraw.SEQN.values,\n",
    "    paxraw.worn.values,\n",
    "    np.maximum(paxraw.moderate_bout.values, paxraw.vigorous_bout.values),\n",
    "    upper=int_cuts_endranges[3],\n",
    "    lower=int_cuts_endranges[2],\n",
    "    tol_upper_soft=10,\n",
    "    tol_lower_soft=0,\n",
    "    m=10,\n",
    "    lower_soft=(int_cuts_endranges[1] + int_cuts_endranges[2]) / 2,\n",
    "    upper_soft=int_cuts_endranges[5],\n",
    "    check_already_classified=True,\n",
    ")"
   ]
  },
  {
   "cell_type": "code",
   "execution_count": null,
   "id": "9b72abff",
   "metadata": {},
   "outputs": [],
   "source": [
    "paxraw[\"low_bout\"] = bout_classifier_SEQN_long(\n",
    "    paxraw.PAXINTEN.values,\n",
    "    paxraw.SEQN.values,\n",
    "    paxraw.worn.values,\n",
    "    np.maximum(paxraw.light_bout.values, paxraw.moderate_bout.values, paxraw.vigorous_bout.values),\n",
    "    upper=int_cuts_endranges[2],\n",
    "    lower=int_cuts_endranges[1],\n",
    "    tol_upper_soft=10,\n",
    "    tol_lower_soft=0,\n",
    "    m=10,\n",
    "    lower_soft=(int_cuts_endranges[0] + int_cuts_endranges[1]) / 2,\n",
    "    upper_soft=int_cuts_endranges[5],\n",
    "    check_already_classified=True,\n",
    ")"
   ]
  },
  {
   "cell_type": "code",
   "execution_count": null,
   "id": "07706e9e",
   "metadata": {},
   "outputs": [],
   "source": [
    "paxraw[\"sed_bout\"] = bout_classifier_SEQN_long(\n",
    "    paxraw.PAXINTEN.values,\n",
    "    paxraw.SEQN.values,\n",
    "    paxraw.worn.values,\n",
    "    paxraw.low_bout.values,\n",
    "    upper=int_cuts_endranges[1],\n",
    "    lower=int_cuts_endranges[0],\n",
    "    tol_upper_soft=0,\n",
    "    tol_lower_soft=0,\n",
    "    m=10,\n",
    "    check_already_classified=False,\n",
    ")"
   ]
  },
  {
   "cell_type": "markdown",
   "id": "40fc0eb2",
   "metadata": {},
   "source": [
    "### Add them all to the dataframe"
   ]
  },
  {
   "cell_type": "code",
   "execution_count": null,
   "id": "fa2b4f87",
   "metadata": {},
   "outputs": [],
   "source": [
    "paxraw[\"no_bout\"] = (\n",
    "    (paxraw[\"worn\"] == 1)\n",
    "    & (paxraw[\"sed_bout\"] == 0)\n",
    "    & (paxraw[\"low_bout\"] == 0)\n",
    "    & (paxraw[\"light_bout\"] == 0)\n",
    "    & (paxraw[\"moderate_bout\"] == 0)\n",
    "    & (paxraw[\"vigorous_bout\"] == 0)\n",
    ") * 1"
   ]
  },
  {
   "cell_type": "markdown",
   "id": "66a096ff",
   "metadata": {},
   "source": [
    "## Save parquet"
   ]
  },
  {
   "cell_type": "code",
   "execution_count": null,
   "id": "de0b0682",
   "metadata": {},
   "outputs": [],
   "source": [
    "parquetfile = datadir / f\"paxraw_{CHAR_LOOKUP[year].lower()}_met_worn_bouts.parquet\"\n",
    "parquetfile"
   ]
  },
  {
   "cell_type": "code",
   "execution_count": null,
   "id": "3ce3dbef",
   "metadata": {},
   "outputs": [],
   "source": [
    "paxraw.to_parquet(parquetfile)\n",
    "# paxraw = pd.read_parquet(parquetfile)"
   ]
  },
  {
   "cell_type": "markdown",
   "id": "a00490c5",
   "metadata": {},
   "source": [
    "## A single column to label minute-by-minute intensity"
   ]
  },
  {
   "cell_type": "code",
   "execution_count": null,
   "id": "e3ce85bf",
   "metadata": {},
   "outputs": [],
   "source": [
    "paxraw[\"intensity\"] = pd.cut(\n",
    "    paxraw.PAXINTEN.values, int_cuts_endranges, right=False, labels=range(len(labels))\n",
    ")\n",
    "# don't include the labels for size:\n",
    "# labels=labels"
   ]
  },
  {
   "cell_type": "code",
   "execution_count": null,
   "id": "3ae4ac57",
   "metadata": {},
   "outputs": [],
   "source": [
    "paxraw.head()"
   ]
  },
  {
   "cell_type": "code",
   "execution_count": null,
   "id": "c96f85db",
   "metadata": {},
   "outputs": [],
   "source": [
    "paxraw[\"METh\"] = paxraw.MET / 60\n",
    "paxraw[\"activeMETh\"] = (paxraw.MET - 1) / 60"
   ]
  },
  {
   "cell_type": "code",
   "execution_count": null,
   "id": "468a8eaf",
   "metadata": {},
   "outputs": [],
   "source": [
    "paxraw_sample = paxraw.loc[paxraw.SEQN == paxraw.SEQN.values[0], :].copy()\n",
    "paxraw_sample.head()"
   ]
  },
  {
   "cell_type": "code",
   "execution_count": null,
   "id": "45903537",
   "metadata": {},
   "outputs": [],
   "source": [
    "(\n",
    "    alt.Chart(paxraw_sample)\n",
    "    .mark_bar(width=1)\n",
    "    .encode(\n",
    "        x=\"PAXN:O\",\n",
    "        y=alt.value(400),\n",
    "        y2=alt.value(2),\n",
    "        color=alt.Color(\"intensity\", scale=alt.Scale(scheme=\"orangered\"))\n",
    "        # scale=alt.Scale(range=[\"white\", \"grey\"])),\n",
    "    )\n",
    "    + alt.Chart(paxraw_sample)\n",
    "    .mark_line(color=\"#1f77b4\", clip=True)\n",
    "    .encode(x=\"PAXN:O\", y=alt.Y(\"PAXINTEN\", scale=alt.Scale(domain=[0, 8000])))\n",
    ").properties(width=1400, height=400)"
   ]
  },
  {
   "cell_type": "code",
   "execution_count": null,
   "id": "58e6e157",
   "metadata": {},
   "outputs": [],
   "source": [
    "(\n",
    "    alt.Chart(paxraw_sample)\n",
    "    .mark_bar()\n",
    "    .encode(\n",
    "        x=\"PAXDAY:O\",\n",
    "        y=alt.Y(\"count()\", title=\"Minutes\"),\n",
    "        color=alt.Color(\"intensity\", scale=alt.Scale(scheme=\"orangered\"))\n",
    "        # scale=alt.Scale(range=[\"white\", \"grey\"])),\n",
    "    )\n",
    ").properties(width=400, height=400)"
   ]
  },
  {
   "cell_type": "code",
   "execution_count": null,
   "id": "ebf4eeb1",
   "metadata": {},
   "outputs": [],
   "source": [
    "(\n",
    "    alt.Chart(paxraw_sample)\n",
    "    .mark_bar()\n",
    "    .encode(\n",
    "        x=\"PAXDAY:O\",\n",
    "        y=alt.Y(\"sum(METh)\", title=\"MET-h\"),\n",
    "        color=alt.Color(\"intensity\", scale=alt.Scale(scheme=\"orangered\"))\n",
    "        # scale=alt.Scale(range=[\"white\", \"grey\"])),\n",
    "    )\n",
    ").properties(width=400, height=400)"
   ]
  },
  {
   "cell_type": "code",
   "execution_count": null,
   "id": "7e8802db",
   "metadata": {
    "lines_to_next_cell": 2
   },
   "outputs": [],
   "source": [
    "(\n",
    "    alt.Chart(paxraw_sample)\n",
    "    .mark_bar()\n",
    "    .encode(\n",
    "        x=\"PAXDAY:O\",\n",
    "        y=alt.Y(\"sum(activeMETh)\", title=\"MET-h\"),\n",
    "        color=alt.Color(\"intensity\", scale=alt.Scale(scheme=\"orangered\"))\n",
    "        # scale=alt.Scale(range=[\"white\", \"grey\"])),\n",
    "    )\n",
    ").properties(width=400, height=400)"
   ]
  },
  {
   "cell_type": "markdown",
   "id": "37cf41a4",
   "metadata": {},
   "source": [
    "## Check for overlap on intensity bounts\n",
    "\n",
    "First sum it up"
   ]
  },
  {
   "cell_type": "code",
   "execution_count": null,
   "id": "fad592d4",
   "metadata": {},
   "outputs": [],
   "source": [
    "paxraw.loc[\n",
    "    :,\n",
    "    [\n",
    "        \"worn\",\n",
    "        \"sed_bout\",\n",
    "        \"low_bout\",\n",
    "        \"light_bout\",\n",
    "        \"moderate_bout\",\n",
    "        \"vigorous_bout\",\n",
    "        \"no_bout\",\n",
    "    ],\n",
    "].sum(axis=0)"
   ]
  },
  {
   "cell_type": "markdown",
   "id": "7a325e4d",
   "metadata": {},
   "source": [
    "From before the generalized numba function:\n",
    "```\n",
    "\"worn             34326726.0\\n\",\n",
    "\"sed_bout         10920764.0\\n\",\n",
    "\"low_bout           604376.0\\n\",\n",
    "\"light_bout          62892.0\\n\",\n",
    "\"moderate_bout       56051.0\\n\",\n",
    "\"vigorous_bout      395787.0\\n\",\n",
    "\"no_bout          22352901.0\\n\",\n",
    "```"
   ]
  },
  {
   "cell_type": "code",
   "execution_count": null,
   "id": "121dda18",
   "metadata": {},
   "outputs": [],
   "source": [
    "((paxraw[\"worn\"] == 1) & (paxraw[\"sed_bout\"] == 0)).sum()"
   ]
  },
  {
   "cell_type": "code",
   "execution_count": null,
   "id": "57d4a956",
   "metadata": {},
   "outputs": [],
   "source": [
    "((paxraw[\"worn\"] == 1) & (paxraw[\"low_bout\"] == 1)).sum()"
   ]
  },
  {
   "cell_type": "code",
   "execution_count": null,
   "id": "ba76bac2",
   "metadata": {},
   "outputs": [],
   "source": [
    "((paxraw[\"sed_bout\"] == 1) & (paxraw[\"low_bout\"] == 1)).sum()"
   ]
  },
  {
   "cell_type": "code",
   "execution_count": null,
   "id": "5874cbe5",
   "metadata": {},
   "outputs": [],
   "source": [
    "((paxraw[\"sed_bout\"] == 1) & (paxraw[\"light_bout\"] == 1)).sum()"
   ]
  },
  {
   "cell_type": "code",
   "execution_count": null,
   "id": "554e7e44",
   "metadata": {},
   "outputs": [],
   "source": [
    "((paxraw[\"sed_bout\"] == 1) & (paxraw[\"moderate_bout\"] == 1)).sum()"
   ]
  },
  {
   "cell_type": "code",
   "execution_count": null,
   "id": "965d567c",
   "metadata": {},
   "outputs": [],
   "source": [
    "((paxraw[\"sed_bout\"] == 1) & (paxraw[\"vigorous_bout\"] == 1)).sum()"
   ]
  },
  {
   "cell_type": "markdown",
   "id": "b5f90eea",
   "metadata": {},
   "source": [
    "# Get valid days and other filters"
   ]
  },
  {
   "cell_type": "markdown",
   "id": "d572f964",
   "metadata": {},
   "source": [
    "## Worn minutes by person-day to compute `valid_day`"
   ]
  },
  {
   "cell_type": "code",
   "execution_count": null,
   "id": "a59d762e",
   "metadata": {},
   "outputs": [],
   "source": [
    "# sum minutes of wear and activity counts per day\n",
    "worn_minutes = paxraw.groupby([\"SEQN\", \"PAXDAY\"]).agg({\"worn\": [np.sum]})"
   ]
  },
  {
   "cell_type": "markdown",
   "id": "d21e270c",
   "metadata": {},
   "source": [
    "worn_minutes.columns = flatten_columns(worn_minutes.columns.values)"
   ]
  },
  {
   "cell_type": "code",
   "execution_count": null,
   "id": "b7e5f3b6",
   "metadata": {},
   "outputs": [],
   "source": [
    "# compute valid days\n",
    "worn_minutes[\"valid_day\"] = (\n",
    "    worn_minutes[\"worn\"][\"sum\"] > (min_worn_hours_threshold * MINUTES_PER_HOUR)\n",
    ") * 1"
   ]
  },
  {
   "cell_type": "code",
   "execution_count": null,
   "id": "9f25f7f2",
   "metadata": {},
   "outputs": [],
   "source": [
    "worn_minutes.head(15)"
   ]
  },
  {
   "cell_type": "code",
   "execution_count": null,
   "id": "65ac8bac",
   "metadata": {},
   "outputs": [],
   "source": [
    "worn_minutes.columns = flatten_columns(worn_minutes.columns.values)"
   ]
  },
  {
   "cell_type": "code",
   "execution_count": null,
   "id": "db9c5afc",
   "metadata": {},
   "outputs": [],
   "source": [
    "worn_minutes.head(15)"
   ]
  },
  {
   "cell_type": "markdown",
   "id": "260549f6",
   "metadata": {},
   "source": [
    "## Other indicators at person-day level that can be used to filter"
   ]
  },
  {
   "cell_type": "code",
   "execution_count": null,
   "id": "1ef623e0",
   "metadata": {},
   "outputs": [],
   "source": [
    "agg_columns = [\"PAXINTEN\", \"max_intensity\", \"out_of_calibration\", \"unreliable\"]"
   ]
  },
  {
   "cell_type": "code",
   "execution_count": null,
   "id": "63da0efd",
   "metadata": {},
   "outputs": [],
   "source": [
    "paxraw[\"max_intensity\"] = (paxraw.PAXINTEN == 32767) * 1\n",
    "paxraw[\"out_of_calibration\"] = (paxraw.PAXCAL == 2) * 1\n",
    "paxraw[\"unreliable\"] = (paxraw.PAXSTAT == 2) * 1"
   ]
  },
  {
   "cell_type": "code",
   "execution_count": null,
   "id": "1d0c6e1e",
   "metadata": {},
   "outputs": [],
   "source": [
    "if \"PAXSTEP\" not in paxraw.columns:\n",
    "    paxraw[\"PAXSTEP\"] = 0\n",
    "    paxraw[\"zero_steps_with_intensity\"] = 0\n",
    "else:\n",
    "    paxraw[\"zero_steps_with_intensity\"] = ((paxraw.PAXINTEN > 250) & (paxraw.PAXSTEP == 0)) * 1"
   ]
  },
  {
   "cell_type": "code",
   "execution_count": null,
   "id": "53fc83b0",
   "metadata": {},
   "outputs": [],
   "source": [
    "paxraw[\"too_many_steps\"] = (paxraw.PAXSTEP > 200) * 1"
   ]
  },
  {
   "cell_type": "code",
   "execution_count": null,
   "id": "273846f0",
   "metadata": {},
   "outputs": [],
   "source": [
    "# add a variable for steps_filtered, summing steps only if we have intensity over 500\n",
    "paxraw[\"steps_filtered_500\"] = 0\n",
    "paxraw.loc[paxraw.PAXINTEN >= 500, \"steps_filtered_500\"] = paxraw.PAXSTEP\n",
    "paxraw[\"steps_filtered_300\"] = 0\n",
    "paxraw.loc[paxraw.PAXINTEN >= 300, \"steps_filtered_300\"] = paxraw.PAXSTEP"
   ]
  },
  {
   "cell_type": "code",
   "execution_count": null,
   "id": "adbfeec8",
   "metadata": {},
   "outputs": [],
   "source": [
    "agg_columns += [\n",
    "    \"zero_steps_with_intensity\",\n",
    "    \"too_many_steps\",\n",
    "    \"steps_filtered_500\",\n",
    "    \"steps_filtered_300\",\n",
    "]"
   ]
  },
  {
   "cell_type": "code",
   "execution_count": null,
   "id": "85544564",
   "metadata": {},
   "outputs": [],
   "source": [
    "tudor2009_filters = (\n",
    "    paxraw.groupby([\"SEQN\", \"PAXDAY\"])\n",
    "    .agg({col: [np.sum, \"last\"] for col in agg_columns})\n",
    "    .reset_index()\n",
    ")\n",
    "tudor2009_filters.columns = flatten_columns(tudor2009_filters.columns.values)"
   ]
  },
  {
   "cell_type": "code",
   "execution_count": null,
   "id": "2b3a603d",
   "metadata": {},
   "outputs": [],
   "source": [
    "tudor2009_filters.head(15)"
   ]
  },
  {
   "cell_type": "markdown",
   "id": "9d04e174",
   "metadata": {},
   "source": [
    "### Join all person-day level indicators"
   ]
  },
  {
   "cell_type": "code",
   "execution_count": null,
   "id": "ec502057",
   "metadata": {},
   "outputs": [],
   "source": [
    "d_people_days = tudor2009_filters.merge(worn_minutes, how=\"inner\", on=[\"SEQN\", \"PAXDAY\"])"
   ]
  },
  {
   "cell_type": "code",
   "execution_count": null,
   "id": "eee1a6eb",
   "metadata": {},
   "outputs": [],
   "source": [
    "d_people_days.head(15)"
   ]
  },
  {
   "cell_type": "code",
   "execution_count": null,
   "id": "1b30b35e",
   "metadata": {},
   "outputs": [],
   "source": [
    "parquetfile = datadir / f\"paxraw_{CHAR_LOOKUP[year].lower()}_people_days.parquet\"\n",
    "parquetfile"
   ]
  },
  {
   "cell_type": "code",
   "execution_count": null,
   "id": "d582801b",
   "metadata": {},
   "outputs": [],
   "source": [
    "d_people_days.to_parquet(parquetfile)"
   ]
  },
  {
   "cell_type": "markdown",
   "id": "2b088163",
   "metadata": {},
   "source": [
    "## Sum up to person level"
   ]
  },
  {
   "cell_type": "code",
   "execution_count": null,
   "id": "8359a71b",
   "metadata": {},
   "outputs": [],
   "source": [
    "d_people = d_people_days.groupby(\"SEQN\").agg(\n",
    "    {\n",
    "        \"zero_steps_with_intensity_sum\": np.sum,\n",
    "        \"too_many_steps_sum\": np.sum,\n",
    "        \"max_intensity_sum\": np.sum,\n",
    "        \"out_of_calibration_sum\": np.sum,\n",
    "        \"out_of_calibration_last\": \"last\",\n",
    "        \"unreliable_sum\": np.sum,\n",
    "        \"unreliable_last\": \"last\",\n",
    "        \"steps_filtered_500_sum\": np.mean,\n",
    "        \"steps_filtered_300_sum\": np.mean,\n",
    "        \"valid_day\": np.sum,\n",
    "        \"PAXINTEN_sum\": np.mean,\n",
    "    }\n",
    ")"
   ]
  },
  {
   "cell_type": "code",
   "execution_count": null,
   "id": "80bd7a8f",
   "metadata": {},
   "outputs": [],
   "source": [
    "d_people.head(15)"
   ]
  },
  {
   "cell_type": "code",
   "execution_count": null,
   "id": "f10af9c3",
   "metadata": {},
   "outputs": [],
   "source": [
    "d_people.shape"
   ]
  },
  {
   "cell_type": "code",
   "execution_count": null,
   "id": "fd5ccb64",
   "metadata": {},
   "outputs": [],
   "source": [
    "parquetfile = datadir / f\"paxraw_{CHAR_LOOKUP[year].lower()}_people.parquet\"\n",
    "parquetfile"
   ]
  },
  {
   "cell_type": "code",
   "execution_count": null,
   "id": "fc5dd2fd",
   "metadata": {},
   "outputs": [],
   "source": [
    "d_people.to_parquet(parquetfile)"
   ]
  },
  {
   "cell_type": "markdown",
   "id": "a8957d75",
   "metadata": {},
   "source": [
    "## Use the indicators to filter to people with reliable data"
   ]
  },
  {
   "cell_type": "code",
   "execution_count": null,
   "id": "357d8f07",
   "metadata": {},
   "outputs": [],
   "source": [
    "d_reliable = d_people.loc[\n",
    "    (d_people.zero_steps_with_intensity_sum <= 10)\n",
    "    & (d_people.too_many_steps_sum <= 10)\n",
    "    & (d_people.max_intensity_sum <= 10)\n",
    "    & (~d_people.out_of_calibration_last)\n",
    "    & (d_people.unreliable_sum <= 10)\n",
    "    & (d_people.steps_filtered_500_sum <= 200000),\n",
    "    :,\n",
    "]\n",
    "d_reliable.head(15)"
   ]
  },
  {
   "cell_type": "code",
   "execution_count": null,
   "id": "08d94c21",
   "metadata": {},
   "outputs": [],
   "source": [
    "d_reliable.shape"
   ]
  },
  {
   "cell_type": "code",
   "execution_count": null,
   "id": "096bcd79",
   "metadata": {},
   "outputs": [],
   "source": [
    "parquetfile = datadir / f\"paxraw_{CHAR_LOOKUP[year].lower()}_reliable_people.parquet\"\n",
    "parquetfile"
   ]
  },
  {
   "cell_type": "code",
   "execution_count": null,
   "id": "7c274666",
   "metadata": {},
   "outputs": [],
   "source": [
    "d_reliable.to_parquet(parquetfile)"
   ]
  },
  {
   "cell_type": "markdown",
   "id": "34179752",
   "metadata": {},
   "source": [
    "## Use filtered people to select rows from full data"
   ]
  },
  {
   "cell_type": "code",
   "execution_count": null,
   "id": "c95aefb6",
   "metadata": {},
   "outputs": [],
   "source": [
    "paxraw_reliable = paxraw.merge(\n",
    "    worn_minutes.loc[worn_minutes.valid_day == 1, :], on=[\"SEQN\", \"PAXDAY\"]\n",
    ").merge(d_reliable.loc[:, []], how=\"inner\", on=\"SEQN\")\n",
    "paxraw_reliable.head(10)"
   ]
  },
  {
   "cell_type": "code",
   "execution_count": null,
   "id": "e32c3eae",
   "metadata": {},
   "outputs": [],
   "source": [
    "paxraw_reliable.shape"
   ]
  },
  {
   "cell_type": "code",
   "execution_count": null,
   "id": "d81bd60c",
   "metadata": {},
   "outputs": [],
   "source": [
    "paxraw_reliable.shape"
   ]
  },
  {
   "cell_type": "markdown",
   "id": "f82c27d8",
   "metadata": {},
   "source": [
    "## Save parquet"
   ]
  },
  {
   "cell_type": "code",
   "execution_count": null,
   "id": "9112bf70",
   "metadata": {},
   "outputs": [],
   "source": [
    "parquetfile = datadir / f\"paxraw_{CHAR_LOOKUP[year].lower()}_met_worn_bouts_reliable.parquet\"\n",
    "parquetfile"
   ]
  },
  {
   "cell_type": "code",
   "execution_count": null,
   "id": "f5b9ea0a",
   "metadata": {},
   "outputs": [],
   "source": [
    "paxraw_reliable.to_parquet(parquetfile)"
   ]
  },
  {
   "cell_type": "markdown",
   "id": "9248dee4",
   "metadata": {},
   "source": [
    "# Look at intensity distribution and METh thresholds\n",
    "\n",
    "### Group by intensity to sum MET-h levels across days"
   ]
  },
  {
   "cell_type": "code",
   "execution_count": null,
   "id": "109b1e3e",
   "metadata": {},
   "outputs": [],
   "source": [
    "groupedMETh = (\n",
    "    paxraw_sample.groupby([\"intensity\", \"PAXDAY\"])\n",
    "    .agg({\"activeMETh\": np.sum})\n",
    "    .groupby([\"intensity\"])\n",
    "    .agg({\"activeMETh\": np.mean})\n",
    ")\n",
    "groupedMETh"
   ]
  },
  {
   "cell_type": "code",
   "execution_count": null,
   "id": "0eb8adaa",
   "metadata": {},
   "outputs": [],
   "source": [
    "groupedMETh.sum()"
   ]
  },
  {
   "cell_type": "markdown",
   "id": "8c3a8fc9",
   "metadata": {},
   "source": [
    "This is the same as just taking the mean of the sum (without grouping by intensity in the middle):"
   ]
  },
  {
   "cell_type": "code",
   "execution_count": null,
   "id": "7e1c447f",
   "metadata": {},
   "outputs": [],
   "source": [
    "paxraw_sample.groupby([\"PAXDAY\"]).agg({\"activeMETh\": np.sum}).mean()"
   ]
  },
  {
   "cell_type": "code",
   "execution_count": null,
   "id": "aeca4aaa",
   "metadata": {},
   "outputs": [],
   "source": [
    "paxraw_reliable.groupby([\"SEQN\", \"intensity\", \"PAXDAY\"]).agg({\"activeMETh\": np.sum}).head()"
   ]
  },
  {
   "cell_type": "code",
   "execution_count": null,
   "id": "df9abfea",
   "metadata": {},
   "outputs": [],
   "source": [
    "paxraw_reliable.groupby([\"SEQN\", \"intensity\", \"PAXDAY\"]).agg({\"activeMETh\": np.sum}).groupby(\n",
    "    [\"SEQN\", \"intensity\"]\n",
    ").agg({\"activeMETh\": np.mean}).head()"
   ]
  },
  {
   "cell_type": "code",
   "execution_count": null,
   "id": "e7ee8e8c",
   "metadata": {},
   "outputs": [],
   "source": [
    "minutes_at_intensity = (\n",
    "    paxraw_reliable.groupby([\"SEQN\", \"intensity\", \"PAXDAY\"])\n",
    "    .agg({\"activeMETh\": \"count\"})\n",
    "    .groupby([\"SEQN\", \"intensity\"])\n",
    "    .agg({\"activeMETh\": np.mean})\n",
    "    .groupby([\"intensity\"])\n",
    "    .agg({\"activeMETh\": np.mean})\n",
    ")\n",
    "minutes_at_intensity"
   ]
  },
  {
   "cell_type": "code",
   "execution_count": null,
   "id": "4bafbe1f",
   "metadata": {},
   "outputs": [],
   "source": [
    "METh_at_intensity = (\n",
    "    paxraw_reliable.groupby([\"SEQN\", \"intensity\", \"PAXDAY\"])\n",
    "    .agg({\"activeMETh\": np.sum})\n",
    "    .groupby([\"SEQN\", \"intensity\"])\n",
    "    .agg({\"activeMETh\": np.mean})\n",
    "    .groupby([\"intensity\"])\n",
    "    .agg({\"activeMETh\": np.mean})\n",
    ")\n",
    "METh_at_intensity"
   ]
  },
  {
   "cell_type": "code",
   "execution_count": null,
   "id": "bc739644",
   "metadata": {},
   "outputs": [],
   "source": [
    "minutes_METh = minutes_at_intensity.rename(columns={\"activeMETh\": \"minutes\"}).merge(\n",
    "    METh_at_intensity, how=\"inner\", on=\"intensity\"\n",
    ")\n",
    "minutes_METh"
   ]
  },
  {
   "cell_type": "code",
   "execution_count": null,
   "id": "99d044cd",
   "metadata": {},
   "outputs": [],
   "source": [
    "minutes_METh_stack = (\n",
    "    pd.concat(\n",
    "        [\n",
    "            minutes_at_intensity.assign(metric=\"minutes\"),\n",
    "            METh_at_intensity.assign(metric=\"MET\", activeMETh=lambda d: d.activeMETh * 60),\n",
    "        ]\n",
    "    )\n",
    "    .reset_index()\n",
    "    .merge(\n",
    "        pd.DataFrame({\"label\": labels, \"intensity\": range(5)}),\n",
    "        how=\"left\",\n",
    "        on=\"intensity\",\n",
    "    )\n",
    ")\n",
    "minutes_METh_stack"
   ]
  },
  {
   "cell_type": "markdown",
   "id": "7a4c3285",
   "metadata": {},
   "source": [
    "### MET Minutes vs Minutes by intensity level"
   ]
  },
  {
   "cell_type": "code",
   "execution_count": null,
   "id": "b71d9c9a",
   "metadata": {},
   "outputs": [],
   "source": [
    "alt.Chart(minutes_METh_stack).mark_bar().encode(\n",
    "    x=alt.X(\"metric:N\", title=\"Metric\"),\n",
    "    y=alt.Y(\"activeMETh:Q\", title=\"Minutes\"),\n",
    "    color=alt.Color(\"label:O\", title=\"Intensity\"),\n",
    "    column=alt.Column(\n",
    "        \"label:O\", title=\"Intensity\", sort=alt.SortField(\"intensity\", order=\"ascending\")\n",
    "    ),\n",
    ")"
   ]
  },
  {
   "cell_type": "markdown",
   "id": "94156ab6",
   "metadata": {},
   "source": [
    "Skip sedentary - no METs"
   ]
  },
  {
   "cell_type": "code",
   "execution_count": null,
   "id": "46b0288f",
   "metadata": {},
   "outputs": [],
   "source": [
    "alt.Chart(minutes_METh_stack.loc[minutes_METh_stack.intensity > 0, :]).mark_bar().encode(\n",
    "    x=alt.X(\"metric:N\", title=\"Metric\"),\n",
    "    y=alt.Y(\"activeMETh:Q\", title=\"Minutes\"),\n",
    "    color=alt.Color(\"label:O\", title=\"Intensity\"),\n",
    "    column=alt.Column(\n",
    "        \"label:O\", title=\"Intensity\", sort=alt.SortField(\"intensity\", order=\"ascending\")\n",
    "    ),\n",
    ").properties(width=100, height=400)"
   ]
  },
  {
   "cell_type": "markdown",
   "id": "fad40d53",
   "metadata": {},
   "source": [
    "## Distribution of weekly METh"
   ]
  },
  {
   "cell_type": "code",
   "execution_count": null,
   "id": "2d47c274",
   "metadata": {},
   "outputs": [],
   "source": [
    "(\n",
    "    paxraw_reliable.groupby([\"SEQN\", \"intensity\", \"PAXDAY\"])\n",
    "    .agg({\"activeMETh\": np.sum})\n",
    "    .groupby([\"SEQN\", \"intensity\"])\n",
    "    .agg({\"activeMETh\": np.mean})\n",
    "    .groupby([\"SEQN\"])\n",
    "    .agg({\"activeMETh\": np.sum})\n",
    ").mean() * 7"
   ]
  },
  {
   "cell_type": "code",
   "execution_count": null,
   "id": "e0d88256",
   "metadata": {},
   "outputs": [],
   "source": [
    "METh = (\n",
    "    paxraw_reliable.groupby([\"SEQN\", \"intensity\", \"PAXDAY\"])\n",
    "    .agg({\"activeMETh\": np.sum})\n",
    "    .groupby([\"SEQN\", \"intensity\"])\n",
    "    .agg({\"activeMETh\": np.mean})\n",
    "    .groupby([\"SEQN\"])\n",
    "    .agg({\"activeMETh\": np.sum})\n",
    ").assign(weeklyMETh=lambda d: d.activeMETh * 7)\n",
    "METh"
   ]
  },
  {
   "cell_type": "code",
   "execution_count": null,
   "id": "5749d2ed",
   "metadata": {},
   "outputs": [],
   "source": [
    "alt.Chart(METh).mark_bar().encode(\n",
    "    alt.X(\"weeklyMETh:Q\", bin=alt.BinParams(maxbins=35)),\n",
    "    y=\"count()\",\n",
    ")"
   ]
  },
  {
   "cell_type": "markdown",
   "id": "7e45fb89",
   "metadata": {},
   "source": [
    "## Look at different METh thresholds and % of people getting rewards (and total utilization)"
   ]
  },
  {
   "cell_type": "code",
   "execution_count": null,
   "id": "e88b8541",
   "metadata": {},
   "outputs": [],
   "source": [
    "cut, cuts = pd.qcut(METh.weeklyMETh, 10, retbins=True)\n",
    "cut"
   ]
  },
  {
   "cell_type": "code",
   "execution_count": null,
   "id": "ee0466b8",
   "metadata": {},
   "outputs": [],
   "source": [
    "cuts"
   ]
  },
  {
   "cell_type": "code",
   "execution_count": null,
   "id": "48c543d3",
   "metadata": {},
   "outputs": [],
   "source": [
    "cut.cat.categories"
   ]
  },
  {
   "cell_type": "code",
   "execution_count": null,
   "id": "20d281f4",
   "metadata": {},
   "outputs": [],
   "source": [
    "utilization = pd.DataFrame(\n",
    "    {\n",
    "        \"target\": np.linspace(cuts[1], cuts[-2], num=50),\n",
    "        \"Total Utilization\": [\n",
    "            np.minimum(METh.weeklyMETh.values / x, 1).mean()\n",
    "            for x in np.linspace(cuts[1], cuts[-2], num=50)\n",
    "        ],\n",
    "        \"Max Rewards\": [\n",
    "            (METh.weeklyMETh.values / x >= 1).sum() / METh.shape[0]\n",
    "            for x in np.linspace(cuts[1], cuts[-2], num=50)\n",
    "        ],\n",
    "    }\n",
    ")"
   ]
  },
  {
   "cell_type": "code",
   "execution_count": null,
   "id": "e1f993aa",
   "metadata": {},
   "outputs": [],
   "source": [
    "utilization.head()"
   ]
  },
  {
   "cell_type": "code",
   "execution_count": null,
   "id": "d788cb47",
   "metadata": {},
   "outputs": [],
   "source": [
    "alt.Chart(utilization).mark_line().transform_fold(\n",
    "    fold=[\"Total Utilization\", \"Max Rewards\"], as_=[\"variable\", \"value\"]\n",
    ").encode(\n",
    "    alt.X(\"target:Q\", title=\"MET-h for 1000 Points\"),\n",
    "    alt.Y(\"value:Q\", title=\"Fraction\", scale=alt.Scale(zero=False)),\n",
    "    alt.Color(\"variable:N\", title=\"Usage\"),\n",
    ").properties(\n",
    "    width=600\n",
    ")"
   ]
  },
  {
   "cell_type": "code",
   "execution_count": null,
   "id": "c63d85ea",
   "metadata": {},
   "outputs": [],
   "source": [
    "alt.Chart(\n",
    "    pd.concat(\n",
    "        [\n",
    "            pd.DataFrame({\"points\": np.minimum(METh.weeklyMETh.values / x, 1) * 1000, \"MET-h\": x})\n",
    "            for x in np.arange(5, 55, 5)\n",
    "        ]\n",
    "    )\n",
    ").mark_bar().encode(\n",
    "    alt.Color(\"points:Q\", bin=alt.BinParams(maxbins=20)),\n",
    "    alt.Y(\"count()\"),\n",
    "    alt.X(\"MET-h:O\"),\n",
    ").properties(\n",
    "    width=600\n",
    ")"
   ]
  },
  {
   "cell_type": "code",
   "execution_count": null,
   "id": "8276fd20",
   "metadata": {
    "lines_to_next_cell": 2
   },
   "outputs": [],
   "source": [
    "alt.Chart(\n",
    "    pd.concat(\n",
    "        [\n",
    "            pd.DataFrame({\"points\": np.minimum(METh.weeklyMETh.values / x, 1) * 1000, \"MET-h\": x})\n",
    "            for x in np.arange(5, 55, 5)\n",
    "        ]\n",
    "    )\n",
    ").mark_bar().encode(\n",
    "    alt.Color(\n",
    "        \"points:Q\",\n",
    "        bin=alt.BinParams(maxbins=20),\n",
    "        scale=alt.Scale(scheme=\"redyellowgreen\"),\n",
    "    ),\n",
    "    alt.Y(\"count()\"),\n",
    "    alt.X(\"MET-h:O\"),\n",
    ").properties(\n",
    "    width=600\n",
    ")"
   ]
  },
  {
   "cell_type": "markdown",
   "id": "187c9ba7",
   "metadata": {},
   "source": [
    "## Ena's chart of points by intensity for different amounts of points earned"
   ]
  },
  {
   "cell_type": "code",
   "execution_count": null,
   "id": "0cb7c94a",
   "metadata": {},
   "outputs": [],
   "source": [
    "all_intensities = pd.DataFrame(\n",
    "    {\n",
    "        \"SEQN\": np.repeat(pd.unique(paxraw_reliable.SEQN.values), 5),\n",
    "        \"intensity\": np.tile(np.arange(5), pd.unique(paxraw_reliable.SEQN.values).shape[0]),\n",
    "    }\n",
    ")\n",
    "all_intensities.head(11)"
   ]
  },
  {
   "cell_type": "code",
   "execution_count": null,
   "id": "78e8daab",
   "metadata": {},
   "outputs": [],
   "source": [
    "points_by_intensity = (\n",
    "    paxraw_reliable.groupby([\"SEQN\", \"intensity\", \"PAXDAY\"], dropna=False)\n",
    "    .agg({\"activeMETh\": np.sum, \"worn\": np.sum})\n",
    "    .groupby([\"SEQN\", \"intensity\"], dropna=False)\n",
    "    .agg({\"activeMETh\": np.mean, \"worn\": np.mean})\n",
    "    # fill in blank intensities\n",
    "    .merge(all_intensities, how=\"outer\", on=list(all_intensities.columns))\n",
    "    .fillna(0)\n",
    "    # calc points\n",
    "    .assign(weeklyMETh=lambda d: d.activeMETh * 7, points=lambda d: d.weeklyMETh / 25 * 1000)\n",
    "    .rename(columns={\"worn\": \"dailyMinutes\"})\n",
    "    .reset_index()\n",
    ")\n",
    "points_by_intensity.head()"
   ]
  },
  {
   "cell_type": "code",
   "execution_count": null,
   "id": "aae08aba",
   "metadata": {},
   "outputs": [],
   "source": [
    "points_by_person = (\n",
    "    points_by_intensity.groupby(\"SEQN\")\n",
    "    .agg({\"points\": np.sum})\n",
    "    .assign(\n",
    "        points_capped=lambda d: np.minimum(d.points, 1000),\n",
    "        point_bin=lambda d: pd.cut(d.points_capped, np.arange(11) * 100, right=True),\n",
    "    )\n",
    ")\n",
    "points_by_person"
   ]
  },
  {
   "cell_type": "code",
   "execution_count": null,
   "id": "2a47149e",
   "metadata": {},
   "outputs": [],
   "source": [
    "point_thresholds_by_intensity = (\n",
    "    points_by_intensity.merge(points_by_person, how=\"left\", on=\"SEQN\")\n",
    "    .assign(\n",
    "        points_relative=lambda d: d.points_x / d.points_y,\n",
    "        dailyMinutesCapped=lambda d: d.dailyMinutes * d.points_capped / d.points_y,\n",
    "    )\n",
    "    .groupby([\"point_bin\", \"intensity\"], dropna=False)\n",
    "    .agg(\n",
    "        {\n",
    "            \"points_relative\": np.mean,\n",
    "            \"points_capped\": np.mean,\n",
    "            \"dailyMinutesCapped\": np.mean,\n",
    "        }\n",
    "    )\n",
    "    .assign(\n",
    "        points=lambda d: d.points_relative * d.points_capped,\n",
    "    )\n",
    "    .reset_index()\n",
    "    .assign(point_bin=lambda d: d.point_bin.astype(\"str\"))\n",
    "    .merge(pd.DataFrame({\"label\": labels, \"intensity\": np.arange(5)}), how=\"left\", on=\"intensity\")\n",
    ")\n",
    "point_thresholds_by_intensity"
   ]
  },
  {
   "cell_type": "code",
   "execution_count": null,
   "id": "7ebe5dda",
   "metadata": {},
   "outputs": [],
   "source": [
    "alt.Chart(\n",
    "    point_thresholds_by_intensity.loc[point_thresholds_by_intensity.intensity > 0, :]\n",
    ").mark_bar().encode(\n",
    "    alt.X(\"point_bin:O\"),\n",
    "    alt.Y(\"points:Q\", title=\"Points\"),\n",
    "    alt.Color(\"label:O\", title=\"Intensity\", sort=alt.SortField(\"label\", order=\"ascending\")),\n",
    ").properties(\n",
    "    width=500\n",
    ")"
   ]
  },
  {
   "cell_type": "markdown",
   "id": "5771d01a",
   "metadata": {},
   "source": [
    "### Stack the bar chart"
   ]
  },
  {
   "cell_type": "code",
   "execution_count": null,
   "id": "768c145e",
   "metadata": {},
   "outputs": [],
   "source": [
    "alt.Chart(\n",
    "    point_thresholds_by_intensity.loc[point_thresholds_by_intensity.intensity > 0, :]\n",
    ").mark_bar().encode(\n",
    "    alt.X(\"point_bin:O\"),\n",
    "    alt.Y(\"points:Q\", title=\"Points\", stack=\"normalize\"),\n",
    "    alt.Color(\"label:O\", title=\"Intensity\", sort=alt.SortField(\"label\", order=\"ascending\")),\n",
    ").properties(\n",
    "    width=500\n",
    ")"
   ]
  },
  {
   "cell_type": "markdown",
   "id": "f327b749",
   "metadata": {},
   "source": [
    "### Convert this to daily times in zones"
   ]
  },
  {
   "cell_type": "code",
   "execution_count": null,
   "id": "7b00850a",
   "metadata": {},
   "outputs": [],
   "source": [
    "alt.Chart(\n",
    "    point_thresholds_by_intensity.loc[point_thresholds_by_intensity.intensity > 0, :]\n",
    ").mark_bar().encode(\n",
    "    alt.X(\"point_bin:O\"),\n",
    "    alt.Y(\"dailyMinutesCapped:Q\", title=\"Minutes\"),\n",
    "    alt.Detail(\"label:O\", title=\"Intensity\"),\n",
    "    alt.Color(\"label:O\", title=\"Intensity\", sort=alt.SortField(\"label\", order=\"ascending\")),\n",
    "    tooltip=[\"label\", \"dailyMinutesCapped\", \"point_bin\", \"points\"],\n",
    ").properties(\n",
    "    width=500\n",
    ")"
   ]
  },
  {
   "cell_type": "code",
   "execution_count": null,
   "id": "d6e144b2",
   "metadata": {},
   "outputs": [],
   "source": [
    "alt.Chart(\n",
    "    point_thresholds_by_intensity.loc[point_thresholds_by_intensity.intensity > 0, :]\n",
    ").mark_bar().encode(\n",
    "    alt.X(\"point_bin:O\"),\n",
    "    alt.Y(\"dailyMinutesCapped:Q\", title=\"% of time in zone\", stack=\"normalize\"),\n",
    "    alt.Detail(\"label:O\", title=\"Intensity\"),\n",
    "    alt.Color(\"label:O\", title=\"Intensity\", sort=alt.SortField(\"label\", order=\"ascending\")),\n",
    "    tooltip=[\"label\", \"dailyMinutesCapped\", \"point_bin\", \"points\"],\n",
    ").properties(\n",
    "    width=500\n",
    ")"
   ]
  },
  {
   "cell_type": "code",
   "execution_count": null,
   "id": "d019722a",
   "metadata": {},
   "outputs": [],
   "source": [
    "point_thresholds_by_intensity.loc[point_thresholds_by_intensity.intensity > 0, :].pivot(\n",
    "    index=\"point_bin\", columns=\"label\", values=\"dailyMinutesCapped\"\n",
    ")"
   ]
  },
  {
   "cell_type": "code",
   "execution_count": null,
   "id": "7deed4ea",
   "metadata": {},
   "outputs": [],
   "source": [
    "point_thresholds_by_intensity.loc[point_thresholds_by_intensity.intensity > 0, :].pivot(\n",
    "    index=\"point_bin\", columns=\"label\", values=\"dailyMinutesCapped\"\n",
    ").assign(Moderate_and_Vigorous=lambda d: d.Moderate + d.Vigorous * 2).rename(\n",
    "    columns={\"Moderate_and_Vigorous\": \"Moderate_and_Vigorous\".replace(\"_\", \" \")}\n",
    ").loc[\n",
    "    :, [\"Low\", \"Light\", \"Moderate and Vigorous\"]\n",
    "].astype(\n",
    "    \"int\"\n",
    ")"
   ]
  },
  {
   "cell_type": "code",
   "execution_count": null,
   "id": "06c62867",
   "metadata": {},
   "outputs": [],
   "source": [
    "point_thresholds_by_intensity.loc[point_thresholds_by_intensity.intensity > 0, :].pivot(\n",
    "    index=\"point_bin\", columns=\"label\", values=\"dailyMinutesCapped\"\n",
    ").assign(\n",
    "    Moderate_and_Vigorous=lambda d: d.Moderate + d.Vigorous * 2,\n",
    "    Light=lambda d: d.Low * 0.5 + d.Light,\n",
    ").rename(\n",
    "    columns={\"Moderate_and_Vigorous\": \"Moderate_and_Vigorous\".replace(\"_\", \" \")}\n",
    ").loc[\n",
    "    :, [\"Light\", \"Moderate and Vigorous\"]\n",
    "].astype(\n",
    "    \"int\"\n",
    ")"
   ]
  },
  {
   "cell_type": "markdown",
   "id": "92fdcd8b",
   "metadata": {},
   "source": [
    "# Additional plots"
   ]
  },
  {
   "cell_type": "markdown",
   "id": "934aa3ac",
   "metadata": {},
   "source": [
    "## Aggregate to daily"
   ]
  },
  {
   "cell_type": "code",
   "execution_count": null,
   "id": "c43623fe",
   "metadata": {},
   "outputs": [],
   "source": [
    "by_day = (\n",
    "    paxraw.groupby([\"SEQN\", \"PAXDAY\"])\n",
    "    .agg({\"PAXSTEP\": [sum], \"PAXINTEN\": [sum, np.mean, max]})\n",
    "    .reset_index()\n",
    ")\n",
    "by_day.head()"
   ]
  },
  {
   "cell_type": "code",
   "execution_count": null,
   "id": "681d4184",
   "metadata": {},
   "outputs": [],
   "source": [
    "by_day.shape"
   ]
  },
  {
   "cell_type": "code",
   "execution_count": null,
   "id": "d813f22b",
   "metadata": {},
   "outputs": [],
   "source": [
    "# by_day.columns = by_day.columns.get_level_values(0)\n",
    "by_day.columns = flatten_columns(by_day.columns)"
   ]
  },
  {
   "cell_type": "code",
   "execution_count": null,
   "id": "229a7ff1",
   "metadata": {},
   "outputs": [],
   "source": [
    "by_day.loc[by_day.SEQN == 31128.0, :]"
   ]
  },
  {
   "cell_type": "markdown",
   "id": "aa4ee48c",
   "metadata": {},
   "source": [
    "## Daily charts"
   ]
  },
  {
   "cell_type": "code",
   "execution_count": null,
   "id": "6e4381bb",
   "metadata": {},
   "outputs": [],
   "source": [
    "id = 2\n",
    "alt.Chart(by_day.loc[by_day.SEQN == by_day.SEQN.unique()[id], :]).mark_bar().encode(\n",
    "    x=\"PAXDAY:O\", y=\"PAXSTEP_sum\"\n",
    ").properties(title=f\"Steps for SEQN {by_day.SEQN.unique()[id]}\")"
   ]
  },
  {
   "cell_type": "code",
   "execution_count": null,
   "id": "f94fe0d1",
   "metadata": {},
   "outputs": [],
   "source": [
    "alt.Chart(by_day.loc[by_day.SEQN.isin(by_day.SEQN.unique()[:9]), :]).mark_bar().encode(\n",
    "    x=\"PAXDAY:O\", y=\"PAXSTEP_sum\", column=\"SEQN:N\"\n",
    ").properties()"
   ]
  },
  {
   "cell_type": "markdown",
   "id": "fcc87d86",
   "metadata": {},
   "source": [
    "## Individual activity/steps"
   ]
  },
  {
   "cell_type": "code",
   "execution_count": null,
   "id": "e2e7221a",
   "metadata": {},
   "outputs": [],
   "source": [
    "alt.Chart(paxraw.loc[paxraw.SEQN == by_day.SEQN.unique()[0], :]).mark_line().encode(\n",
    "    x=\"PAXN:O\", y=\"PAXSTEP\"\n",
    ").properties(width=1400)"
   ]
  },
  {
   "cell_type": "code",
   "execution_count": null,
   "id": "18a5b98f",
   "metadata": {},
   "outputs": [],
   "source": [
    "(\n",
    "    alt.Chart(paxraw.loc[paxraw.SEQN == by_day.SEQN.unique()[0], :])\n",
    "    .mark_line()\n",
    "    .encode(x=\"PAXN:O\", y=\"PAXSTEP\")\n",
    "    + alt.Chart(paxraw.loc[paxraw.SEQN == by_day.SEQN.unique()[0], :])\n",
    "    .mark_line(color=\"orange\")\n",
    "    .encode(x=\"PAXN:O\", y=\"PAXINTEN\")\n",
    ").properties(width=1400).resolve_scale(y=\"independent\")"
   ]
  },
  {
   "cell_type": "code",
   "execution_count": null,
   "id": "5fe3ca6c",
   "metadata": {},
   "outputs": [],
   "source": [
    "(\n",
    "    alt.Chart(paxraw.loc[paxraw.SEQN == by_day.SEQN.unique()[0], :])\n",
    "    .mark_circle(opacity=0.7, color=\"#F5F5DC\", size=120)\n",
    "    .encode(\n",
    "        alt.X(\"PAXINTEN:Q\", title=\"Intensity per minute\"),\n",
    "        alt.Y(\"PAXSTEP:Q\", title=\"Steps per minute\"),\n",
    "    )\n",
    "    + alt.Chart(paxraw.loc[paxraw.SEQN == by_day.SEQN.unique()[0], :])\n",
    "    .mark_circle(opacity=1, color=\"black\", size=3)\n",
    "    .encode(x=\"PAXINTEN\", y=\"PAXSTEP\")\n",
    ").properties(width=600, height=600)"
   ]
  },
  {
   "cell_type": "code",
   "execution_count": null,
   "id": "406ecbd3",
   "metadata": {},
   "outputs": [],
   "source": [
    "(\n",
    "    alt.Chart(paxraw.loc[paxraw.SEQN == by_day.SEQN.unique()[0], :])\n",
    "    .mark_circle(clip=True, opacity=0.7, color=\"#F5F5DC\", size=120)\n",
    "    .encode(\n",
    "        alt.X(\n",
    "            \"PAXINTEN:Q\",\n",
    "            title=\"Intensity per minute\",\n",
    "            scale=alt.Scale(domain=[0, 2500]),\n",
    "        ),\n",
    "        alt.Y(\"PAXSTEP:Q\", title=\"Steps per minute\", scale=alt.Scale(domain=[0, 60])),\n",
    "    )\n",
    "    + alt.Chart(paxraw.loc[paxraw.SEQN == by_day.SEQN.unique()[0], :])\n",
    "    .mark_circle(clip=True, opacity=1, color=\"black\", size=3)\n",
    "    .encode(x=\"PAXINTEN\", y=\"PAXSTEP\")\n",
    ").properties(width=600, height=600)"
   ]
  },
  {
   "cell_type": "code",
   "execution_count": null,
   "id": "6aec0af5",
   "metadata": {},
   "outputs": [],
   "source": [
    "alt.Chart(paxraw.loc[paxraw.SEQN == by_day.SEQN.unique()[0], :]).mark_rect(clip=True).encode(\n",
    "    alt.X(\n",
    "        \"PAXINTEN:Q\",\n",
    "        title=\"Intensity per minute\",\n",
    "        scale=alt.Scale(domain=[0, 2500]),\n",
    "        bin=alt.Bin(maxbins=100),\n",
    "    ),\n",
    "    alt.Y(\n",
    "        \"PAXSTEP:Q\",\n",
    "        title=\"Steps per minute\",\n",
    "        scale=alt.Scale(domain=[0, 60]),\n",
    "        bin=alt.Bin(maxbins=100),\n",
    "    ),\n",
    "    alt.Color(\"count():Q\", scale=alt.Scale(scheme=\"greenblue\", type=\"log\")),\n",
    ").properties(width=600, height=600)"
   ]
  },
  {
   "cell_type": "code",
   "execution_count": null,
   "id": "99ee59f0",
   "metadata": {},
   "outputs": [],
   "source": [
    "alt.Chart(\n",
    "    paxraw.loc[\n",
    "        (paxraw.SEQN == by_day.SEQN.unique()[0]) & (paxraw.PAXINTEN > 0) & (paxraw.PAXSTEP > 0),\n",
    "        :,\n",
    "    ]\n",
    ").mark_rect(clip=True).encode(\n",
    "    alt.X(\n",
    "        \"PAXINTEN:Q\",\n",
    "        title=\"Intensity per minute\",\n",
    "        scale=alt.Scale(domain=[0, 2500]),\n",
    "        bin=alt.Bin(maxbins=100),\n",
    "    ),\n",
    "    alt.Y(\n",
    "        \"PAXSTEP:Q\",\n",
    "        title=\"Steps per minute\",\n",
    "        scale=alt.Scale(domain=[0, 60]),\n",
    "        bin=alt.Bin(maxbins=100),\n",
    "    ),\n",
    "    alt.Color(\"count():Q\", scale=alt.Scale(scheme=\"greenblue\", type=\"log\")),\n",
    ").properties(\n",
    "    width=600, height=600\n",
    ")"
   ]
  },
  {
   "cell_type": "markdown",
   "id": "5c6ee02c",
   "metadata": {},
   "source": [
    "## Activity plots for a single participant"
   ]
  },
  {
   "cell_type": "code",
   "execution_count": null,
   "id": "2550cd49",
   "metadata": {},
   "outputs": [],
   "source": [
    "person_active_counts = d_people_days.loc[\n",
    "    :, [\"SEQN\", \"worn_sum\", \"PAXINTEN_sum\", \"valid_day\"]\n",
    "].copy()"
   ]
  },
  {
   "cell_type": "code",
   "execution_count": null,
   "id": "c398d3a4",
   "metadata": {},
   "outputs": [],
   "source": [
    "person_active_counts.columns = [\"SEQN\", \"worn_minutes\", \"activity_counts\", \"valid_day\"]"
   ]
  },
  {
   "cell_type": "code",
   "execution_count": null,
   "id": "272f8576",
   "metadata": {},
   "outputs": [],
   "source": [
    "person_active_counts.head()"
   ]
  },
  {
   "cell_type": "code",
   "execution_count": null,
   "id": "77228db7",
   "metadata": {},
   "outputs": [],
   "source": [
    "person_active_counts_summary = (\n",
    "    person_active_counts.loc[person_active_counts.valid_day == 1, :]\n",
    "    .groupby([\"SEQN\"])\n",
    "    .agg({\"worn_minutes\": np.mean, \"activity_counts\": np.mean, \"valid_day\": \"count\"})\n",
    ")\n",
    "person_active_counts_summary.columns = [\n",
    "    \"daily_worn_minutes_mean\",\n",
    "    \"daily_activity_count_sum_mean\",\n",
    "    \"n_valid_days\",\n",
    "]\n",
    "person_active_counts_summary.head()"
   ]
  },
  {
   "cell_type": "code",
   "execution_count": null,
   "id": "011b691e",
   "metadata": {},
   "outputs": [],
   "source": [
    "person_active_counts_summary.shape"
   ]
  },
  {
   "cell_type": "markdown",
   "id": "13ff598c-491e-4cab-af67-bdfaea3ce6a1",
   "metadata": {},
   "source": [
    "### Save off this `person_active_counts_summary` as the \"`fishman_summary`\" file\n",
    "\n",
    "Note that at one point I was generating files that looked like:\n",
    "```\n",
    "In [7]: pd.read_parquet('data/NHANES/2003-2004/PAXRAW_C_int_dt_fishman_summary.parquet').head()\n",
    "Out[7]:\n",
    "       daily_worn_minutes_mean  daily_activity_count_sum_mean  n_valid_days\n",
    "SEQN\n",
    "21005               810.000000                  523275.000000             3\n",
    "21006               734.500000                  117279.250000             4\n",
    "21007               911.571429                  361203.714286             7\n",
    "21008               788.666667                  214938.333333             3\n",
    "21009               900.428571                  409360.142857             7\n",
    "\n",
    "In [8]: d = pd.read_parquet('data/NHANES/2003-2004/PAXRAW_C_int_dt_fishman.parquet')\n",
    "\n",
    "In [9]: d.loc[d.SEQN == 21005, :]\n",
    "Out[9]:\n",
    "    SEQN  PAXDAY  worn_sum  PAXINTEN_sum  valid_day  max_intensity_sum  max_intensity_last  out_of_calibration_sum  out_of_calibration_last  unreliable_sum  unreliable_last\n",
    "0  21005       1       202         32695      False                  0               False                       0                    False               0            False\n",
    "1  21005       2        76          5380      False                  0               False                       0                    False               0            False\n",
    "2  21005       3       243        143783      False                  0               False                       0                    False               0            False\n",
    "3  21005       4       873        851618       True                  0               False                       0                    False               0            False\n",
    "4  21005       5       203         74453      False                  0               False                       0                    False               0            False\n",
    "5  21005       6       681        249123       True                  0               False                       0                    False               0            False\n",
    "6  21005       7       876        469084       True                  0               False                       0                    False               0            False\n",
    "```"
   ]
  },
  {
   "cell_type": "code",
   "execution_count": null,
   "id": "09a2a74b-ffc8-4ee8-ab75-cc83ab78eb86",
   "metadata": {},
   "outputs": [],
   "source": [
    "person_active_counts_summary.to_parquet(\n",
    "    datadir / f\"paxraw_{CHAR_LOOKUP[year].lower()}_fishman_summary.parquet\"\n",
    ")"
   ]
  },
  {
   "cell_type": "code",
   "execution_count": null,
   "id": "89e64580",
   "metadata": {},
   "outputs": [],
   "source": [
    "alt.Chart(person_active_counts_summary).mark_bar().encode(\n",
    "    alt.X(\"daily_worn_minutes_mean:Q\", bin=True),\n",
    "    y=\"count()\",\n",
    ")"
   ]
  },
  {
   "cell_type": "code",
   "execution_count": null,
   "id": "187e2337",
   "metadata": {},
   "outputs": [],
   "source": [
    "alt.Chart(person_active_counts_summary).mark_bar().encode(\n",
    "    alt.X(\"daily_activity_count_sum_mean:Q\", bin=True),\n",
    "    y=\"count()\",\n",
    ")"
   ]
  },
  {
   "cell_type": "code",
   "execution_count": null,
   "id": "cf4a1128",
   "metadata": {},
   "outputs": [],
   "source": [
    "alt.Chart(person_active_counts_summary).mark_bar(clip=True).encode(\n",
    "    alt.X(\n",
    "        \"daily_activity_count_sum_mean:Q\",\n",
    "        scale=alt.Scale(domain=[0, 5000000]),\n",
    "        bin=alt.Bin(maxbins=500),\n",
    "    ),\n",
    "    y=\"count()\",\n",
    ")"
   ]
  },
  {
   "cell_type": "code",
   "execution_count": null,
   "id": "c59f86e4",
   "metadata": {},
   "outputs": [],
   "source": [
    "alt.Chart(person_active_counts_summary).mark_bar(clip=True).encode(\n",
    "    alt.X(\n",
    "        \"daily_activity_count_sum_mean:Q\",\n",
    "        scale=alt.Scale(domain=[0, 1500000]),\n",
    "        bin=alt.Bin(maxbins=1000),\n",
    "    ),\n",
    "    y=\"count()\",\n",
    ")"
   ]
  },
  {
   "cell_type": "code",
   "execution_count": null,
   "id": "c934cb71",
   "metadata": {},
   "outputs": [],
   "source": [
    "alt.Chart(person_active_counts_summary).mark_bar().encode(\n",
    "    alt.X(\"daily_activity_count_sum_mean:Q\", scale=alt.Scale(type=\"log\")),\n",
    "    y=\"count()\",\n",
    ")"
   ]
  },
  {
   "cell_type": "code",
   "execution_count": null,
   "id": "81133b7b",
   "metadata": {},
   "outputs": [],
   "source": [
    "person_active_counts_summary[\"daily_activity_count_sum_mean_log\"] = np.log10(\n",
    "    person_active_counts_summary[\"daily_activity_count_sum_mean\"]\n",
    ")"
   ]
  },
  {
   "cell_type": "code",
   "execution_count": null,
   "id": "9d9b255d",
   "metadata": {},
   "outputs": [],
   "source": [
    "alt.Chart(person_active_counts_summary).mark_bar(clip=True).encode(\n",
    "    alt.X(\n",
    "        \"daily_activity_count_sum_mean_log:Q\",\n",
    "        scale=alt.Scale(),\n",
    "        bin=alt.Bin(maxbins=100),\n",
    "    ),\n",
    "    y=\"count()\",\n",
    ")"
   ]
  },
  {
   "cell_type": "code",
   "execution_count": null,
   "id": "c7ac17be",
   "metadata": {},
   "outputs": [],
   "source": [
    "alt.Chart(person_active_counts_summary).mark_bar().encode(\n",
    "    alt.X(\"n_valid_days:O\"),\n",
    "    y=\"count()\",\n",
    ")"
   ]
  },
  {
   "cell_type": "code",
   "execution_count": null,
   "id": "27a142ff",
   "metadata": {},
   "outputs": [],
   "source": [
    "# clear the crazy data\n",
    "person_active_counts_summary = person_active_counts_summary.loc[\n",
    "    person_active_counts_summary.daily_activity_count_sum_mean < 1500000, :\n",
    "].copy()"
   ]
  },
  {
   "cell_type": "code",
   "execution_count": null,
   "id": "8ff6916f",
   "metadata": {},
   "outputs": [],
   "source": [
    "cuts = 3\n",
    "person_active_counts_summary[\"activity_tertile\"] = pd.qcut(\n",
    "    person_active_counts_summary.daily_activity_count_sum_mean,\n",
    "    q=cuts,\n",
    "    labels=range(1, cuts + 1),\n",
    ")"
   ]
  },
  {
   "cell_type": "code",
   "execution_count": null,
   "id": "ecfd7fff",
   "metadata": {},
   "outputs": [],
   "source": [
    "alt.Chart(person_active_counts_summary).mark_bar(clip=True).encode(\n",
    "    alt.X(\"activity_tertile:O\", scale=alt.Scale(), bin=False),\n",
    "    y=\"mean(daily_activity_count_sum_mean)\",\n",
    ").properties(width=400)"
   ]
  },
  {
   "cell_type": "markdown",
   "id": "c15d1cd4",
   "metadata": {},
   "source": [
    "## Examine the filters for valid people"
   ]
  },
  {
   "cell_type": "code",
   "execution_count": null,
   "id": "bb353eea",
   "metadata": {},
   "outputs": [],
   "source": [
    "d_people.loc[\n",
    "    (d_people.zero_steps_with_intensity_sum > 10)\n",
    "    | (d_people.too_many_steps_sum > 10)\n",
    "    | (d_people.max_intensity_sum > 10),\n",
    "    :,\n",
    "].head(20)"
   ]
  },
  {
   "cell_type": "code",
   "execution_count": null,
   "id": "a200d30c",
   "metadata": {},
   "outputs": [],
   "source": [
    "d_people.loc[\n",
    "    (d_people.zero_steps_with_intensity_sum > 10)\n",
    "    | (d_people.too_many_steps_sum > 10)\n",
    "    | (d_people.max_intensity_sum > 10)\n",
    "    | (d_people.out_of_calibration_last),\n",
    "    :,\n",
    "].head(20)"
   ]
  },
  {
   "cell_type": "code",
   "execution_count": null,
   "id": "b68303b4",
   "metadata": {},
   "outputs": [],
   "source": [
    "d_people.loc[\n",
    "    (d_people.zero_steps_with_intensity_sum > 10)\n",
    "    | (d_people.too_many_steps_sum > 10)\n",
    "    | (d_people.max_intensity_sum > 10)\n",
    "    | (d_people.out_of_calibration_last)\n",
    "    | (d_people.unreliable_last),\n",
    "    :,\n",
    "].head(20)"
   ]
  },
  {
   "cell_type": "code",
   "execution_count": null,
   "id": "b8aca6a4",
   "metadata": {},
   "outputs": [],
   "source": [
    "d_unreliable = d_people.loc[\n",
    "    (d_people.zero_steps_with_intensity_sum > 10)\n",
    "    | (d_people.too_many_steps_sum > 10)\n",
    "    | (d_people.max_intensity_sum > 10)\n",
    "    | (d_people.out_of_calibration_last)\n",
    "    | (d_people.unreliable_sum > 10)\n",
    "    | (d_people.steps_filtered_500_sum > 200000),\n",
    "    :,\n",
    "]\n",
    "d_unreliable.head(20)"
   ]
  },
  {
   "cell_type": "code",
   "execution_count": null,
   "id": "df48765a",
   "metadata": {},
   "outputs": [],
   "source": [
    "alt.Chart(d_unreliable).mark_point().encode(\n",
    "    alt.X(\"PAXINTEN_sum\", title=\"Intensity\"),\n",
    "    alt.Y(\"steps_filtered_500_sum\", title=\"Steps\"),\n",
    "    alt.Color(\"valid_day\", title=\"N Valid Days\"),\n",
    ")"
   ]
  },
  {
   "cell_type": "code",
   "execution_count": null,
   "id": "12da41a0",
   "metadata": {},
   "outputs": [],
   "source": [
    "alt.Chart(d_reliable).mark_point().encode(\n",
    "    alt.X(\"PAXINTEN_sum\", title=\"Intensity\"),\n",
    "    alt.Y(\"steps_filtered_500_sum\", title=\"Steps\"),\n",
    "    alt.Color(\"valid_day\", title=\"N Valid Days\"),\n",
    ").properties(width=600, height=600)"
   ]
  },
  {
   "cell_type": "markdown",
   "id": "c6271fc6",
   "metadata": {},
   "source": [
    "# Correlation of steps and intensity"
   ]
  },
  {
   "cell_type": "code",
   "execution_count": null,
   "id": "3a70aedf",
   "metadata": {},
   "outputs": [],
   "source": [
    "results = smf.ols(\"steps_filtered_500_sum ~ PAXINTEN_sum + 0\", data=d_reliable).fit()\n",
    "results.summary()"
   ]
  },
  {
   "cell_type": "code",
   "execution_count": null,
   "id": "988169ec",
   "metadata": {},
   "outputs": [],
   "source": [
    "alt.Chart(d_reliable).mark_point().encode(\n",
    "    alt.X(\"PAXINTEN_sum\", title=\"Intensity\"),\n",
    "    alt.Y(\"steps_filtered_300_sum\", title=\"Steps\"),\n",
    "    alt.Color(\"valid_day\", title=\"N Valid Days\"),\n",
    ").properties(width=600, height=600)"
   ]
  },
  {
   "cell_type": "code",
   "execution_count": null,
   "id": "c31ad4e0",
   "metadata": {},
   "outputs": [],
   "source": [
    "results = smf.ols(\"steps_filtered_300_sum ~ PAXINTEN_sum + 0\", data=d_reliable).fit()\n",
    "results.summary()"
   ]
  },
  {
   "cell_type": "code",
   "execution_count": null,
   "id": "9c6a0e9a",
   "metadata": {},
   "outputs": [],
   "source": [
    "alt.Chart(d_reliable).mark_point().encode(\n",
    "    alt.X(\"steps_filtered_300_sum\", title=\"Steps, 300 threshold\"),\n",
    "    alt.Y(\"steps_filtered_500_sum\", title=\"Steps, 500 threshold\"),\n",
    "    alt.Color(\"valid_day\", title=\"N Valid Days\"),\n",
    ").properties(width=600, height=600)"
   ]
  }
 ],
 "metadata": {
  "jupytext": {
   "formats": "ipynb,py:light"
  },
  "kernelspec": {
   "display_name": "py-3.11.10",
   "language": "python",
   "name": "py-3.11.10"
  },
  "language_info": {
   "codemirror_mode": {
    "name": "ipython",
    "version": 3
   },
   "file_extension": ".py",
   "mimetype": "text/x-python",
   "name": "python",
   "nbconvert_exporter": "python",
   "pygments_lexer": "ipython3",
   "version": "3.11.10"
  }
 },
 "nbformat": 4,
 "nbformat_minor": 5
}
